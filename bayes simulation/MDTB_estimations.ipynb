{
 "cells": [
  {
   "cell_type": "markdown",
   "metadata": {},
   "source": [
    "#### This notebook looks into the estimated variances for the connectivity weights"
   ]
  },
  {
   "cell_type": "code",
   "execution_count": 39,
   "metadata": {},
   "outputs": [],
   "source": [
    "import init_paths\n",
    "import numpy as np\n",
    "import cortico_cereb_connectivity.globals as gl\n",
    "import cortico_cereb_connectivity.run_model as rm\n",
    "import Functional_Fusion.dataset as fdata\n",
    "import Functional_Fusion.atlas_map as at\n",
    "import glob\n",
    "import matplotlib.pyplot as plt\n",
    "from cortico_cereb_connectivity.scripts.script_train_eval_models import *\n",
    "import matplotlib.pyplot as plt\n",
    "from scipy import stats"
   ]
  },
  {
   "cell_type": "code",
   "execution_count": 41,
   "metadata": {},
   "outputs": [],
   "source": [
    "config = rm.get_eval_config(model='ind')\n",
    "dataset = fdata.get_dataset_class(gl.base_dir,\n",
    "                                    dataset=\"MDTB\")\n",
    "config[\"subj_list\"] = dataset.get_participants().participant_id\n",
    "mu = np.empty((24, 3))\n",
    "std = np.empty((24, 3))\n",
    "\n",
    "ext_list = [8]\n",
    "dirname=[]\n",
    "mname=[]\n",
    "for a in ext_list:\n",
    "    dirname.append(f\"MDTB_ses-s1_Icosahedron1002_L2regression\")\n",
    "    if a is None:\n",
    "        mname.append(f\"MDTB_ses-s1_Icosahedron1002_L2regression\")\n",
    "    if isinstance(a,int):\n",
    "        mname.append(f\"MDTB_ses-s1_Icosahedron1002_L2regression_A{a}\")\n",
    "    elif isinstance(a,str):\n",
    "        mname.append(f\"MDTB_ses-s1_Icosahedron1002_L2regression_{a}\")\n",
    "\n",
    "fitted_model,train_info = rm.get_fitted_models(dirname,mname,config)\n",
    "# Loop over subjects\n",
    "for i, sub in enumerate(config[\"subj_list\"]):\n",
    "    YY, info, _ = fdata.get_dataset(gl.base_dir,\n",
    "                                config[\"eval_dataset\"],\n",
    "                                atlas=config[\"cerebellum\"],\n",
    "                                sess=config[\"eval_ses\"],\n",
    "                                type=config[\"type\"],\n",
    "                                subj=str(sub))\n",
    "    XX, info, _ = fdata.get_dataset(gl.base_dir,\n",
    "                                config[\"eval_dataset\"],\n",
    "                                atlas=config[\"cortex\"],\n",
    "                                sess=config[\"eval_ses\"],\n",
    "                                type=config[\"type\"],\n",
    "                                subj=str(sub))\n",
    "    # Average the cortical data over pacels\n",
    "    X_atlas, _ = at.get_atlas(config['cortex'],gl.atlas_dir)\n",
    "    # get the vector containing tessel labels\n",
    "    X_atlas.get_parcel(config['label_img'], unite_struct = False)\n",
    "    # get the mean across tessels for cortical data\n",
    "    XX, labels = fdata.agg_parcels(XX, X_atlas.label_vector,fcn=np.nanmean)\n",
    "\n",
    "    # Remove Nans\n",
    "    Y = np.nan_to_num(YY[0,:,:])\n",
    "    X = np.nan_to_num(XX[0,:,:])\n",
    "\n",
    "    X /= np.sqrt(np.nansum(X ** 2, 0) / X.shape[0])\n",
    "\n",
    "    # plt.subplots(1, 2, figsize=(10, 5))\n",
    "    # plt.subplot(1, 2, 1)\n",
    "    # plt.hist(X.flatten(), bins=20)\n",
    "    mu[i,0], std[i,0] = stats.norm.fit(X.flatten())\n",
    "    # plt.subplot(1, 2, 2)\n",
    "    # plt.hist(Y.flatten(), bins=20)\n",
    "    mu[i,2], std[i,2] = stats.norm.fit(Y.flatten())\n",
    "    # plt.show()\n",
    "\n",
    "    # Loop over models\n",
    "    for j, (fm, tinfo) in enumerate(zip(fitted_model, train_info)):\n",
    "        \n",
    "        # Use subject-specific model? (indiv or loo or mix)\n",
    "        if (isinstance(fm,list)): \n",
    "            fitM = fm[i]\n",
    "        else:\n",
    "            fitM = fm\n",
    "\n",
    "        mu[i,1], std[i,1] = stats.norm.fit(fitM.coef_.T.flatten())"
   ]
  },
  {
   "cell_type": "code",
   "execution_count": 42,
   "metadata": {},
   "outputs": [
    {
     "name": "stdout",
     "output_type": "stream",
     "text": [
      "9.192678206739924e-18\n",
      "1.0\n",
      "2.460389791221233e-06\n",
      "1.2178672243049671e-08\n",
      "-1.4922015445155622e-19\n",
      "0.005681532169654858\n"
     ]
    }
   ],
   "source": [
    "for i in range(3):\n",
    "    print(np.mean(mu[:,i]))\n",
    "    print(np.mean(std[:,i]**2))"
   ]
  },
  {
   "cell_type": "code",
   "execution_count": 43,
   "metadata": {},
   "outputs": [
    {
     "name": "stdout",
     "output_type": "stream",
     "text": [
      "W_mean: 2.460389791221235e-06\n",
      "W_var: 1.2864167502419021e-09\n"
     ]
    }
   ],
   "source": [
    "config = rm.get_eval_config()\n",
    "dataset = fdata.get_dataset_class(gl.base_dir,\n",
    "                                    dataset=\"MDTB\")\n",
    "config[\"subj_list\"] = dataset.get_participants().participant_id\n",
    "fitted_model,train_info = rm.get_fitted_models(dirname,mname,config)\n",
    "\n",
    "# Loop over models\n",
    "for j, (fm, tinfo) in enumerate(zip(fitted_model, train_info)):\n",
    "    fitM = fm\n",
    "    mu_a, std_a = stats.norm.fit(fitM.coef_.T.flatten())\n",
    "    print(f'W_mean: {mu_a}')\n",
    "    print(f'W_var: {std_a**2}')"
   ]
  },
  {
   "cell_type": "code",
   "execution_count": 44,
   "metadata": {},
   "outputs": [
    {
     "name": "stdout",
     "output_type": "stream",
     "text": [
      "w_ind_var: 1.0560438620548075e-08\n"
     ]
    }
   ],
   "source": [
    "print(f'w_ind_var: {np.mean(std[:,1])**2 - std_a**2}')"
   ]
  },
  {
   "cell_type": "code",
   "execution_count": 45,
   "metadata": {},
   "outputs": [
    {
     "data": {
      "image/png": "[encoded data removed]",
      "text/plain": [
       "<Figure size 640x480 with 1 Axes>"
      ]
     },
     "metadata": {},
     "output_type": "display_data"
    }
   ],
   "source": [
    "plt.hist(fitM.coef_.T.flatten(), bins=30)\n",
    "plt.show()"
   ]
  }
 ],
 "metadata": {
  "kernelspec": {
   "display_name": "cortico",
   "language": "python",
   "name": "python3"
  },
  "language_info": {
   "codemirror_mode": {
    "name": "ipython",
    "version": 3
   },
   "file_extension": ".py",
   "mimetype": "text/x-python",
   "name": "python",
   "nbconvert_exporter": "python",
   "pygments_lexer": "ipython3",
   "version": "3.8.10"
  }
 },
 "nbformat": 4,
 "nbformat_minor": 2
}
