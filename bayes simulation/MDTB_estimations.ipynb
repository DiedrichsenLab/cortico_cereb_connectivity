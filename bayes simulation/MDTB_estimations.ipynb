{
 "cells": [
  {
   "cell_type": "markdown",
   "metadata": {},
   "source": [
    "#### This notebook looks into the estimated variances for the connectivity weights"
   ]
  },
  {
   "cell_type": "code",
   "execution_count": 1,
   "metadata": {},
   "outputs": [],
   "source": [
    "import init_paths\n",
    "import numpy as np\n",
    "import cortico_cereb_connectivity.globals as gl\n",
    "import cortico_cereb_connectivity.run_model as rm\n",
    "import Functional_Fusion.dataset as fdata\n",
    "import Functional_Fusion.atlas_map as at\n",
    "import glob\n",
    "import matplotlib.pyplot as plt\n",
    "from cortico_cereb_connectivity.scripts.script_train_eval_models import *\n",
    "import matplotlib.pyplot as plt\n",
    "from scipy import stats"
   ]
  },
  {
   "cell_type": "code",
   "execution_count": 2,
   "metadata": {},
   "outputs": [],
   "source": [
    "def fit_normal_to_data():\n",
    "    config = rm.get_eval_config(model='ind', cerebellum='MNISymC3')\n",
    "    dataset = fdata.get_dataset_class(gl.base_dir,\n",
    "                                        dataset=\"MDTB\")\n",
    "    config[\"subj_list\"] = dataset.get_participants().participant_id\n",
    "    mu = np.empty((24,))\n",
    "    std = np.empty((24,))\n",
    "\n",
    "    ext_list = [8]\n",
    "    dirname=[]\n",
    "    mname=[]\n",
    "    for a in ext_list:\n",
    "        dirname.append(f\"MDTB_CondHalf_ses-s1_run-all_Icosahedron1002_L2reg\")\n",
    "        mname.append(f\"MDTB_CondHalf_ses-s1_run-all_Icosahedron1002_L2reg_A{a}\")\n",
    "\n",
    "    fitted_model,train_info = rm.get_fitted_models(dirname,mname,config)\n",
    "\n",
    "    for i, (fm, ti) in enumerate(zip(fitted_model[0], train_info[0])):\n",
    "        mu[i], std[i] = stats.norm.fit(fm.coef_.T.flatten())\n",
    "    \n",
    "    return mu, std"
   ]
  },
  {
   "cell_type": "code",
   "execution_count": 3,
   "metadata": {},
   "outputs": [],
   "source": [
    "mu, std = fit_normal_to_data()"
   ]
  },
  {
   "cell_type": "code",
   "execution_count": 5,
   "metadata": {},
   "outputs": [
    {
     "name": "stdout",
     "output_type": "stream",
     "text": [
      "Mean of W: [ 7.09290215e-05 -1.01432945e-05 -3.71331536e-05  8.39153860e-05\n",
      "  8.12957092e-05 -3.03765373e-05  1.12932331e-04 -2.67782912e-05\n",
      " -2.90962938e-05  9.66280759e-05  1.76291706e-05  1.59824093e-05\n",
      "  1.23599813e-04  1.44092397e-05 -9.74362323e-06  3.66764665e-05\n",
      "  6.08328481e-05  1.37986172e-04 -8.36729488e-05  4.43139506e-06\n",
      "  3.65131620e-05  6.29547429e-05 -5.72056846e-05  8.88068596e-05]\n",
      "Var of W: [1.67107186e-06 1.54681400e-06 1.73887318e-06 1.49527612e-06\n",
      " 1.55183234e-06 1.61938420e-06 1.51980693e-06 1.53477095e-06\n",
      " 1.47888084e-06 1.57273986e-06 1.55913502e-06 1.69439572e-06\n",
      " 1.47412298e-06 1.54121628e-06 1.71882021e-06 1.59275521e-06\n",
      " 1.56399490e-06 1.61151237e-06 1.57300877e-06 1.65008533e-06\n",
      " 1.60758264e-06 1.50976769e-06 1.69997281e-06 1.70224660e-06]\n"
     ]
    }
   ],
   "source": [
    "print(f'Mean of W: {mu}')\n",
    "print(f'Var of W: {std**2}')"
   ]
  },
  {
   "cell_type": "code",
   "execution_count": 7,
   "metadata": {},
   "outputs": [
    {
     "name": "stdout",
     "output_type": "stream",
     "text": [
      "Group mean: 3.172387395875802e-05\n",
      "Group var: 1.9303896545947844e-07\n"
     ]
    }
   ],
   "source": [
    "config = rm.get_eval_config(model='avg', cerebellum='MNISymC3')\n",
    "dataset = fdata.get_dataset_class(gl.base_dir, dataset=\"MDTB\")\n",
    "config[\"subj_list\"] = dataset.get_participants().participant_id\n",
    "dirname = []\n",
    "mname = []\n",
    "dirname.append(f\"MDTB_CondHalf_ses-s1_run-all_Icosahedron1002_L2reg\")\n",
    "mname.append(f\"MDTB_CondHalf_ses-s1_run-all_Icosahedron1002_L2reg_A8\")\n",
    "fitted_model,train_info = rm.get_fitted_models(dirname,mname,config)\n",
    "\n",
    "W = fitted_model[0].coef_.T\n",
    "mu_avg, std_avg = stats.norm.fit(W.flatten())\n",
    "\n",
    "print(f'Group mean: {mu_avg}')\n",
    "print(f'Group var: {std_avg**2}')"
   ]
  },
  {
   "cell_type": "code",
   "execution_count": 8,
   "metadata": {},
   "outputs": [
    {
     "name": "stdout",
     "output_type": "stream",
     "text": [
      "w_ind_var: 1.398868111607289e-06\n"
     ]
    }
   ],
   "source": [
    "print(f'w_ind_var: {np.mean(std)**2 - std_avg**2}')"
   ]
  },
  {
   "cell_type": "code",
   "execution_count": 9,
   "metadata": {},
   "outputs": [
    {
     "data": {
      "image/png": "[encoded data removed]",
      "text/plain": [
       "<Figure size 640x480 with 1 Axes>"
      ]
     },
     "metadata": {},
     "output_type": "display_data"
    }
   ],
   "source": [
    "plt.hist(W.flatten(), bins=30)\n",
    "plt.show()"
   ]
  }
 ],
 "metadata": {
  "kernelspec": {
   "display_name": "cortico",
   "language": "python",
   "name": "python3"
  },
  "language_info": {
   "codemirror_mode": {
    "name": "ipython",
    "version": 3
   },
   "file_extension": ".py",
   "mimetype": "text/x-python",
   "name": "python",
   "nbconvert_exporter": "python",
   "pygments_lexer": "ipython3",
   "version": "3.8.10"
  }
 },
 "nbformat": 4,
 "nbformat_minor": 2
}
