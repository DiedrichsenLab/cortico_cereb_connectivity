{
 "cells": [
  {
   "cell_type": "markdown",
   "metadata": {},
   "source": [
    "## Comparison of using the individual and averaged cortical activity patterns for the evaluation of a group model \n"
   ]
  },
  {
   "cell_type": "code",
   "execution_count": 1,
   "metadata": {},
   "outputs": [],
   "source": [
    "import numpy as np\n",
    "import pandas as pd\n",
    "import seaborn as sns\n",
    "import cortico_cereb_connectivity.run_model as rm\n",
    "import matplotlib.pyplot as plt"
   ]
  },
  {
   "cell_type": "code",
   "execution_count": null,
   "metadata": {},
   "outputs": [],
   "source": [
    "# To produce an evaluation of the models, using a specific evaluation dataset\n",
    "import cortico_cereb_connectivity.script.script_eval_corticalact as seh\n",
    "seh.eval_models_script(eval_id = 'MDTB_Cavg',cortical_act = 'avg')\n",
    "seh.eval_models_script(eval_id = 'MDTB_Cind',cortical_act = 'ind')\n"
   ]
  },
  {
   "cell_type": "markdown",
   "metadata": {},
   "source": [
    "### Summary plot "
   ]
  },
  {
   "cell_type": "code",
   "execution_count": 4,
   "metadata": {},
   "outputs": [],
   "source": [
    "dataset_list = ['HCPur100']\n",
    "models=['MDTB_Cavg','MDTB_Cind']\n",
    "df = rm.comb_eval(models=models,methods=['L2reg'],eval_data=dataset_list,cerebellum='MNISymC3')\n"
   ]
  },
  {
   "cell_type": "code",
   "execution_count": 15,
   "metadata": {},
   "outputs": [
    {
     "data": {
      "text/plain": [
       "<matplotlib.lines.Line2D at 0x3368ab810>"
      ]
     },
     "execution_count": 15,
     "metadata": {},
     "output_type": "execute_result"
    },
    {
     "data": {
      "image/png": "[encoded data removed]",
      "text/plain": [
       "<Figure size 640x480 with 1 Axes>"
      ]
     },
     "metadata": {},
     "output_type": "display_data"
    }
   ],
   "source": [
    "sns.barplot(data=df,x='cortical_act',y='R_eval')\n",
    "plt.axhline(y=df[df.cortical_act=='avg'].noiseceiling_XY.mean(), color='r', linestyle='--', label='Noise ceiling')\n",
    "plt.axhline(y=df[df.cortical_act=='ind'].noiseceiling_XY.mean(), color='b', linestyle='--', label='Noise ceiling')"
   ]
  },
  {
   "cell_type": "code",
   "execution_count": null,
   "metadata": {},
   "outputs": [
    {
     "data": {
      "text/plain": [
       "0.21798386247146107"
      ]
     },
     "execution_count": 10,
     "metadata": {},
     "output_type": "execute_result"
    }
   ],
   "source": []
  },
  {
   "cell_type": "markdown",
   "metadata": {},
   "source": [
    "### scaleout-mean-rest vs scaleout-nomean-rest identical?"
   ]
  },
  {
   "cell_type": "code",
   "execution_count": 13,
   "metadata": {},
   "outputs": [
    {
     "name": "stdout",
     "output_type": "stream",
     "text": [
      "Maximum difference in R_eval: 1.1102230246251565e-16\n"
     ]
    }
   ],
   "source": [
    "# Filter the dataset for the specified train datasets\n",
    "subset1 = d_all_fusion[d_all_fusion['train_dataset'] == 'scaleout-mean-rest'].reset_index(drop=True)\n",
    "subset2 = d_all_fusion[d_all_fusion['train_dataset'] == 'scaleout-nomean-rest'].reset_index(drop=True)\n",
    "\n",
    "# Calculate the maximum difference in R_eval\n",
    "max_difference = (subset1['R_eval'] - subset2['R_eval']).abs().max()\n",
    "print(f\"Maximum difference in R_eval: {max_difference}\")"
   ]
  }
 ],
 "metadata": {
  "kernelspec": {
   "display_name": "base",
   "language": "python",
   "name": "python3"
  },
  "language_info": {
   "codemirror_mode": {
    "name": "ipython",
    "version": 3
   },
   "file_extension": ".py",
   "mimetype": "text/x-python",
   "name": "python",
   "nbconvert_exporter": "python",
   "pygments_lexer": "ipython3",
   "version": "3.11.8"
  }
 },
 "nbformat": 4,
 "nbformat_minor": 2
}
