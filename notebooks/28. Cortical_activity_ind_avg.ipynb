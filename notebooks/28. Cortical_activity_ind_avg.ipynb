{
 "cells": [
  {
   "cell_type": "markdown",
   "metadata": {},
   "source": [
    "## Comparison of using the individual and averaged cortical activity patterns for the evaluation of a group model \n"
   ]
  },
  {
   "cell_type": "code",
   "execution_count": 2,
   "metadata": {},
   "outputs": [],
   "source": [
    "import numpy as np\n",
    "import pandas as pd\n",
    "import seaborn as sns\n",
    "import cortico_cereb_connectivity.run_model as rm\n",
    "import cortico_cereb_connectivity.globals as gl\n",
    "\n",
    "import matplotlib.pyplot as plt"
   ]
  },
  {
   "cell_type": "code",
   "execution_count": null,
   "metadata": {},
   "outputs": [],
   "source": [
    "# To produce an evaluation of the models, using a specific evaluation dataset\n",
    "import cortico_cereb_connectivity.script.script_eval_corticalact as seh\n",
    "seh.eval_models_script(eval_id = 'MDTB_Cavg',cortical_act = 'avg')\n",
    "seh.eval_models_script(eval_id = 'MDTB_Cind',cortical_act = 'ind')\n",
    "seh.eval_models_script(eval_id = 'MDTB_Cind',cortical_act = 'loo')\n",
    "\n"
   ]
  },
  {
   "cell_type": "markdown",
   "metadata": {},
   "source": [
    "### Summary plot "
   ]
  },
  {
   "cell_type": "code",
   "execution_count": null,
   "metadata": {},
   "outputs": [
    {
     "data": {
      "text/plain": [
       "array(['avg', 'ind'], dtype=object)"
      ]
     },
     "execution_count": 8,
     "metadata": {},
     "output_type": "execute_result"
    }
   ],
   "source": [
    "dataset_list = ['HCPur100']\n",
    "models=['MDTB_Cavg','MDTB_Cind','MDTB_Cloo']\n",
    "df = rm.comb_eval(models=models,methods=['L2reg'],eval_data=dataset_list,cerebellum='MNISymC3')"
   ]
  },
  {
   "cell_type": "code",
   "execution_count": 4,
   "metadata": {},
   "outputs": [
    {
     "data": {
      "text/plain": [
       "<matplotlib.lines.Line2D at 0x328918b10>"
      ]
     },
     "execution_count": 4,
     "metadata": {},
     "output_type": "execute_result"
    },
    {
     "data": {
      "image/png": "[encoded data removed]",
      "text/plain": [
       "<Figure size 640x480 with 1 Axes>"
      ]
     },
     "metadata": {},
     "output_type": "display_data"
    }
   ],
   "source": [
    "sns.barplot(data=df,x='cortical_act',y='R_eval')\n",
    "plt.axhline(y=df[df.cortical_act=='avg'].noiseceiling_XY.mean(), color='r', linestyle='--', label='Within-subject (Y)')\n",
    "plt.axhline(y=df[df.cortical_act=='ind'].noiseceiling_XY.mean(), color='b', linestyle='--', label='Within-subject (Y and Yp)')\n",
    "plt.axhline(y=df[df.cortical_act=='ind'].group_noiseceil_Y_upper.mean(), color='g', linestyle=':', label='Between subjects (Y)')\n",
    "plt.axhline(y=df[df.cortical_act=='ind'].group_noiseceil_Y_lower.mean(), color='g', linestyle='--', label='Between subjects (Y)')"
   ]
  },
  {
   "cell_type": "code",
   "execution_count": 5,
   "metadata": {},
   "outputs": [
    {
     "data": {
      "text/plain": [
       "cortical_act\n",
       "avg    0.935678\n",
       "ind    0.630380\n",
       "Name: noise_X_R, dtype: float64"
      ]
     },
     "execution_count": 5,
     "metadata": {},
     "output_type": "execute_result"
    }
   ],
   "source": [
    "df.groupby('cortical_act').noise_X_R.mean()"
   ]
  }
 ],
 "metadata": {
  "kernelspec": {
   "display_name": "base",
   "language": "python",
   "name": "python3"
  },
  "language_info": {
   "codemirror_mode": {
    "name": "ipython",
    "version": 3
   },
   "file_extension": ".py",
   "mimetype": "text/x-python",
   "name": "python",
   "nbconvert_exporter": "python",
   "pygments_lexer": "ipython3",
   "version": "3.11.8"
  }
 },
 "nbformat": 4,
 "nbformat_minor": 2
}
