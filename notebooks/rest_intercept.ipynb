{
 "cells": [
  {
   "cell_type": "code",
   "execution_count": 3,
   "metadata": {},
   "outputs": [],
   "source": [
    "import numpy as np\n",
    "import pandas as pd\n",
    "import seaborn as sns\n",
    "import cortico_cereb_connectivity.globals as gl\n",
    "import cortico_cereb_connectivity.run_model as rm\n",
    "import cortico_cereb_connectivity.model as cm\n",
    "import cortico_cereb_connectivity.evaluation as ev\n",
    "import matplotlib.pyplot as plt\n"
   ]
  },
  {
   "attachments": {},
   "cell_type": "markdown",
   "metadata": {},
   "source": [
    "##  Simulations on how to deal with intercept"
   ]
  },
  {
   "cell_type": "code",
   "execution_count": 28,
   "metadata": {},
   "outputs": [],
   "source": [
    "P = 1000\n",
    "K = 10 \n",
    "sig_r = 5\n",
    "sig_c = 1\n",
    "rest = np.random.normal(0,sig_r,(1,P))\n",
    "cond = np.random.normal(0,sig_c,(K,P))\n",
    "\n",
    "X = np.concatenate((rest,cond),axis=0)\n",
    "Yr = np.empty((2,K+1,P))\n",
    "Yw = np.empty((2,K,P))\n",
    "for i in range(2):\n",
    "    Yr[i] = X + np.random.normal(0,1,(K+1,P))\n",
    "    Yw[i] = Yr[i,1:,:]-Yr[i,0,:]\n",
    "    Yr[i] = Yr[i]-Yr[i].mean(axis=0)\n",
    "    "
   ]
  },
  {
   "cell_type": "code",
   "execution_count": 29,
   "metadata": {},
   "outputs": [
    {
     "name": "stdout",
     "output_type": "stream",
     "text": [
      "with rest: 0.7662067109138484\n",
      "without rest: 0.9313457968965398\n"
     ]
    }
   ],
   "source": [
    "Rr,_=ev.calculate_R(Yr[0],Yr[1])\n",
    "Rw,_=ev.calculate_R(Yw[0],Yw[1])\n",
    "print('with rest:',Rr)\n",
    "print('without rest:',Rw)\n"
   ]
  },
  {
   "attachments": {},
   "cell_type": "markdown",
   "metadata": {},
   "source": [
    "When rest is explictly included, the reliability is lower if the rest-task contrast is stronger than the between condition contrast. \n",
    "\n"
   ]
  }
 ],
 "metadata": {
  "kernelspec": {
   "display_name": "base",
   "language": "python",
   "name": "python3"
  },
  "language_info": {
   "codemirror_mode": {
    "name": "ipython",
    "version": 3
   },
   "file_extension": ".py",
   "mimetype": "text/x-python",
   "name": "python",
   "nbconvert_exporter": "python",
   "pygments_lexer": "ipython3",
   "version": "3.8.5"
  },
  "vscode": {
   "interpreter": {
    "hash": "82c9595c6ac3df5bed1366f4aa85323e4ec1b3448185f6be6e163d2b6e222f49"
   }
  }
 },
 "nbformat": 4,
 "nbformat_minor": 2
}
