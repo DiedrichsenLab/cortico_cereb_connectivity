{
 "cells": [
  {
   "cell_type": "markdown",
   "metadata": {},
   "source": [
    "## Convergence analysis\n",
    "This notebook is to determine if we can replicate the convergence results from the King et al. 2023 paper, using the new datasets, and the new models. "
   ]
  },
  {
   "cell_type": "code",
   "execution_count": null,
   "metadata": {},
   "outputs": [],
   "source": [
    "import numpy as np\n",
    "import pandas as pd\n",
    "import seaborn as sns\n",
    "import cortico_cereb_connectivity.globals as gl\n",
    "import cortico_cereb_connectivity.run_model as rm\n",
    "import cortico_cereb_connectivity.cio as cio\n",
    "import cortico_cereb_connectivity.weights as cw\n",
    "import Functional_Fusion.atlas_map as am\n",
    "import matplotlib.pyplot as plt\n",
    "import seaborn as sb\n",
    "import scipy.stats as stats\n",
    "import SUITPy as suit\n",
    "\n",
    "fig_dir =  '/Users/jdiedrichsen/Dropbox/Talks/2024/12_UTSW'"
   ]
  },
  {
   "cell_type": "code",
   "execution_count": null,
   "metadata": {},
   "outputs": [],
   "source": [
    "rc = {'axes.facecolor': 'black',\n",
    " 'axes.edgecolor': 'white',\n",
    " 'axes.grid': False,\n",
    " 'axes.axisbelow': 'line',\n",
    " 'axes.labelcolor': 'white',\n",
    " 'figure.facecolor': 'black',\n",
    " 'text.color': 'white',\n",
    " 'xtick.color': 'white',\n",
    " 'ytick.color': 'white',\n",
    " 'xtick.direction': 'out',\n",
    " 'ytick.direction': 'out',\n",
    " 'patch.edgecolor': 'white',\n",
    " 'patch.force_edgecolor': False,\n",
    " 'image.cmap': 'viridis',\n",
    " 'xtick.bottom': True,\n",
    " 'xtick.top': False,\n",
    " 'ytick.left': True,\n",
    " 'ytick.right': False,\n",
    " 'axes.spines.left': True,\n",
    " 'axes.spines.bottom': True,\n",
    " 'axes.spines.right': False,\n",
    " 'axes.spines.top': False}\n",
    "sb.set_style(rc=rc)"
   ]
  },
  {
   "cell_type": "code",
   "execution_count": null,
   "metadata": {},
   "outputs": [],
   "source": [
    "def calc_convergence(dataset = 'MDTB',\n",
    "                     ses_id='all',\n",
    "                     method='NNLS',\n",
    "                     parcel='Icosahedron362',\n",
    "                     ext='A4'):\n",
    "    weights = cw.load_model_weights('MDTB','all',method,'SUIT3',parcel,ext)\n",
    "    cerebellum,ainf = am.get_atlas('SUIT3')\n",
    "    if method == 'L2Regression':\n",
    "        threshold = np.nanstd(weights)\n",
    "    else:\n",
    "        threshold = 0\n",
    "    area = cw.calc_area(weights,threshold=threshold)\n",
    "    var,std = cw.calc_dispersion(weights,parcel,threshold=threshold)\n",
    "    return area, var, std\n",
    "\n",
    "\n",
    "def plt_maps(area,std):\n",
    "    cerebellum,ainf = am.get_atlas('SUIT3')\n",
    "    T,colors = cw.summarize_measures([area,std],rois=['0','M1.','M2.','M3.','M4.','A..','D..','S..'])\n",
    "    \n",
    "    fig = plt.figure()\n",
    "\n",
    "    gs = fig.add_gridspec(3,2)\n",
    "    fig.add_subplot(gs[:2, 0])\n",
    "    nii = cerebellum.data_to_nifti(np.nanmean(area,axis=0))\n",
    "    flat_data = suit.flatmap.vol_to_surf(nii)\n",
    "    suit.flatmap.plot(flat_data,\n",
    "                      colorbar=True,  \n",
    "                      bordersize=2.5,\n",
    "                      bordercolor='w',\n",
    "                      backgroundcolor='k',\n",
    "                      new_figure=False)\n",
    "    plt.title('area')\n",
    "\n",
    "    fig.add_subplot(gs[:2, 1])\n",
    "    nii = cerebellum.data_to_nifti(np.nanmean(std,axis=0))\n",
    "    flat_data = suit.flatmap.vol_to_surf(nii)\n",
    "    suit.flatmap.plot(flat_data,\n",
    "                      colorbar=True,  \n",
    "                      bordersize=2.5,\n",
    "                      bordercolor='w',\n",
    "                      backgroundcolor='k',\n",
    "                      new_figure=False)\n",
    "    plt.title('std')\n",
    "\n",
    "    fig.add_subplot(gs[2, 0])\n",
    "    sb.barplot(T,x='roi',y='area',hue='roi',palette=colors[1:])\n",
    "    fig.add_subplot(gs[2, 1])\n",
    "    sb.barplot(T,x='roi',y='std',hue='roi',palette=colors[1:])\n"
   ]
  },
  {
   "cell_type": "markdown",
   "metadata": {},
   "source": [
    "## NNLS model MDTB all "
   ]
  },
  {
   "cell_type": "code",
   "execution_count": null,
   "metadata": {},
   "outputs": [],
   "source": [
    "area1,var1,std1 = calc_convergence('MDTB','all','NNLS','Icosahedron362','A4')"
   ]
  },
  {
   "cell_type": "code",
   "execution_count": null,
   "metadata": {},
   "outputs": [],
   "source": [
    "plt.figure(figsize=(12,12))\n",
    "plt_maps(area1,std1)"
   ]
  },
  {
   "cell_type": "markdown",
   "metadata": {},
   "source": [
    "## L1 MDTB ses1"
   ]
  },
  {
   "cell_type": "code",
   "execution_count": null,
   "metadata": {},
   "outputs": [],
   "source": [
    "area2,var2,std2 = calc_convergence('MDTB','ses-s1','L1Regression','Icosahedron1002','A-4')"
   ]
  },
  {
   "cell_type": "code",
   "execution_count": null,
   "metadata": {},
   "outputs": [],
   "source": [
    "plt.figure(figsize=(12,12))\n",
    "plt_maps(area2,std2)"
   ]
  },
  {
   "cell_type": "markdown",
   "metadata": {},
   "source": [
    "## L1 - MDTB all "
   ]
  },
  {
   "cell_type": "code",
   "execution_count": null,
   "metadata": {},
   "outputs": [],
   "source": [
    "area3,var3,std3 = calc_convergence('MDTB','all','L1Regression','Icosahedron1002','A-4')"
   ]
  },
  {
   "cell_type": "code",
   "execution_count": null,
   "metadata": {},
   "outputs": [],
   "source": [
    "plt.figure(figsize=(12,12))\n",
    "plt_maps(area3,std3)"
   ]
  },
  {
   "cell_type": "markdown",
   "metadata": {},
   "source": [
    "## L2 regression Model MDTB all"
   ]
  },
  {
   "cell_type": "code",
   "execution_count": null,
   "metadata": {},
   "outputs": [],
   "source": [
    "area4,var4,std4 = calc_convergence('MDTB','all','L2Regression','Icosahedron1002','A8')"
   ]
  },
  {
   "cell_type": "code",
   "execution_count": null,
   "metadata": {},
   "outputs": [],
   "source": [
    "plt.figure(figsize=(12,12))\n",
    "plt_maps(area4,std4)"
   ]
  },
  {
   "cell_type": "markdown",
   "metadata": {},
   "source": [
    "## Single figures"
   ]
  },
  {
   "cell_type": "code",
   "execution_count": null,
   "metadata": {},
   "outputs": [],
   "source": [
    "plt.figure(figsize=(8,8))\n",
    "cerebellum,ainf = am.get_atlas('SUIT3')\n",
    "nii = cerebellum.data_to_nifti(np.nanmean(area3,axis=0))\n",
    "flat_data = suit.flatmap.vol_to_surf(nii)\n",
    "\n",
    "suit.flatmap.plot(flat_data,\n",
    "                      colorbar=True,  \n",
    "                      bordersize=2.5,\n",
    "                      bordercolor='w',\n",
    "                      backgroundcolor='k',\n",
    "                      new_figure=False)\n",
    "plt.savefig(f'{fig_dir}/L1_1002_area.png')"
   ]
  },
  {
   "cell_type": "code",
   "execution_count": null,
   "metadata": {},
   "outputs": [],
   "source": [
    "plt.figure(figsize=(8,8))\n",
    "cerebellum,ainf = am.get_atlas('SUIT3')\n",
    "nii = cerebellum.data_to_nifti(np.nanmean(std3,axis=0))\n",
    "flat_data = suit.flatmap.vol_to_surf(nii)\n",
    "\n",
    "suit.flatmap.plot(flat_data,\n",
    "                      colorbar=True,  \n",
    "                      bordersize=2.5,\n",
    "                      bordercolor='w',\n",
    "                      backgroundcolor='k',\n",
    "                      cscale=[0,1.4],\n",
    "                      new_figure=False)\n",
    "plt.savefig(f'{fig_dir}/L1_1002_std.png')"
   ]
  },
  {
   "cell_type": "code",
   "execution_count": null,
   "metadata": {},
   "outputs": [],
   "source": [
    "\n",
    "fig = plt.figure(figsize=(8,2))\n",
    "T,colors = cw.summarize_measures([area3,std3],rois=['0','M1.','M2.','M3.','M4.','A..','D..','S..'])\n",
    "fig.add_subplot(1,2,1)\n",
    "sb.barplot(T,x='roi',y='area',hue='roi',palette=colors[1:])\n",
    "fig.add_subplot(1,2,2)\n",
    "sb.barplot(T,x='roi',y='std',hue='roi',palette=colors[1:])\n",
    "plt.savefig(f'{fig_dir}/L1_1002_std.pdf')"
   ]
  },
  {
   "cell_type": "markdown",
   "metadata": {},
   "source": []
  }
 ],
 "metadata": {
  "kernelspec": {
   "display_name": "Python 3",
   "language": "python",
   "name": "python3"
  },
  "language_info": {
   "codemirror_mode": {
    "name": "ipython",
    "version": 3
   },
   "file_extension": ".py",
   "mimetype": "text/x-python",
   "name": "python",
   "nbconvert_exporter": "python",
   "pygments_lexer": "ipython3",
   "version": "3.11.5"
  }
 },
 "nbformat": 4,
 "nbformat_minor": 2
}
