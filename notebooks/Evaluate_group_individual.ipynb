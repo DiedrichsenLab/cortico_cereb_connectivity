{
 "cells": [
  {
   "cell_type": "code",
   "execution_count": 16,
   "metadata": {},
   "outputs": [],
   "source": [
    "import numpy as np\n",
    "import pandas as pd\n",
    "import seaborn as sns\n",
    "import cortico_cereb_connectivity.globals as gl\n",
    "import cortico_cereb_connectivity.run_model as rm\n",
    "import Functional_Fusion.dataset as fdata\n",
    "import glob\n",
    "import matplotlib.pyplot as plt\n"
   ]
  },
  {
   "attachments": {},
   "cell_type": "markdown",
   "metadata": {},
   "source": [
    "##  Group vs. individual models: Use SC1 - SC2: Evaluate models"
   ]
  },
  {
   "cell_type": "code",
   "execution_count": null,
   "metadata": {},
   "outputs": [],
   "source": [
    "# All individual models\n",
    "D = fdata.get_dataset_class(gl.base_dir,'MDTB')\n",
    "# Get participants info\n",
    "T = D.get_participants()\n",
    "subj_name = list(T['participant_id'])\n",
    "eval_models(train_dataset=\"MDTB\", train_ses=\"ses-s1\",\n",
    "            eval_dataset = ['MDTB'], eval_ses=\"ses-s2\",\n",
    "            eval_id = 'Mds1-ind',model=subj_name,ext_list=[8])"
   ]
  },
  {
   "cell_type": "code",
   "execution_count": null,
   "metadata": {},
   "outputs": [],
   "source": [
    "# Average model\n",
    "eval_models(train_dataset=\"MDTB\", train_ses=\"ses-s1\",\n",
    "            eval_dataset = ['MDTB'], eval_ses=\"ses-s2\",\n",
    "            eval_id = 'Mds1-ind',model='avg',ext_list=[8])"
   ]
  },
  {
   "cell_type": "code",
   "execution_count": null,
   "metadata": {},
   "outputs": [],
   "source": [
    "# Leave one out model\n",
    "eval_models(train_dataset=\"MDTB\", train_ses=\"ses-s1\",\n",
    "            eval_dataset = ['MDTB'], eval_ses=\"ses-s2\",\n",
    "            eval_id = 'Mds1-ind',model='loo',ext_list=[8])"
   ]
  },
  {
   "attachments": {},
   "cell_type": "markdown",
   "metadata": {},
   "source": [
    "### Evaluation of S1 model on S2"
   ]
  },
  {
   "cell_type": "code",
   "execution_count": 10,
   "metadata": {},
   "outputs": [],
   "source": [
    "df2=rm.comb_eval(models=['Mds1-ind','MDs1-avg','MDs1-loo'],eval_data=['MDTBs2'])\n",
    "df2['model_type'] = df2['model']\n",
    "df2.loc[df2['model'].isna() & (df2.subj_id != df2.eval_subj),'model_type']='diff'\n",
    "df2.loc[df2['model'].isna() & (df2.subj_id == df2.eval_subj),'model_type']='same'"
   ]
  },
  {
   "cell_type": "code",
   "execution_count": 11,
   "metadata": {},
   "outputs": [
    {
     "data": {
      "text/plain": [
       "<AxesSubplot:xlabel='model_type', ylabel='R_eval'>"
      ]
     },
     "execution_count": 11,
     "metadata": {},
     "output_type": "execute_result"
    },
    {
     "data": {
      "image/png": "[encoded data removed]",
      "text/plain": [
       "<Figure size 432x288 with 1 Axes>"
      ]
     },
     "metadata": {
      "needs_background": "light"
     },
     "output_type": "display_data"
    }
   ],
   "source": [
    "sns.barplot(data=df2,x='model_type',y='R_eval')"
   ]
  },
  {
   "attachments": {},
   "cell_type": "markdown",
   "metadata": {},
   "source": [
    "### Evaluation of S1 on S1"
   ]
  },
  {
   "cell_type": "code",
   "execution_count": 21,
   "metadata": {},
   "outputs": [],
   "source": [
    "df1=rm.comb_eval(models=['Mds1-ind','MDs1-avg','MDs1-loo'],eval_data=['MDTBs1'])\n",
    "df1['model_type'] = df1['model']\n",
    "df1.loc[df1['model'].isna() & (df1.subj_id != df1.eval_subj),'model_type']='diff'\n",
    "df1.loc[df1['model'].isna() & (df1.subj_id == df1.eval_subj),'model_type']='same'\n"
   ]
  },
  {
   "cell_type": "code",
   "execution_count": 22,
   "metadata": {},
   "outputs": [
    {
     "data": {
      "text/plain": [
       "<AxesSubplot:xlabel='model_type', ylabel='R_eval'>"
      ]
     },
     "execution_count": 22,
     "metadata": {},
     "output_type": "execute_result"
    },
    {
     "data": {
      "image/png": "[encoded data removed]",
      "text/plain": [
       "<Figure size 432x288 with 1 Axes>"
      ]
     },
     "metadata": {
      "needs_background": "light"
     },
     "output_type": "display_data"
    }
   ],
   "source": [
    "sns.barplot(data=df1,x='model_type',y='R_eval')"
   ]
  },
  {
   "attachments": {},
   "cell_type": "markdown",
   "metadata": {},
   "source": [
    "### Evaluate average model on S2 only \n"
   ]
  },
  {
   "cell_type": "code",
   "execution_count": 25,
   "metadata": {},
   "outputs": [],
   "source": [
    "df2a=rm.comb_eval(models=['Md-ind','MD-avg','MD-loo'],eval_data=['MDTBs2'])\n",
    "df2a['model_type'] = df2a['model']\n",
    "df2a.loc[df2a['model'].isna() & (df2a.subj_id != df2a.eval_subj),'model_type']='diff'\n",
    "df2a.loc[df2a['model'].isna() & (df2a.subj_id == df2a.eval_subj),'model_type']='same'\n"
   ]
  },
  {
   "cell_type": "code",
   "execution_count": 26,
   "metadata": {},
   "outputs": [
    {
     "data": {
      "text/plain": [
       "<AxesSubplot:xlabel='model_type', ylabel='R_eval'>"
      ]
     },
     "execution_count": 26,
     "metadata": {},
     "output_type": "execute_result"
    },
    {
     "data": {
      "image/png": "[encoded data removed]",
      "text/plain": [
       "<Figure size 432x288 with 1 Axes>"
      ]
     },
     "metadata": {
      "needs_background": "light"
     },
     "output_type": "display_data"
    }
   ],
   "source": [
    "sns.barplot(data=df2a,x='model_type',y='R_eval')"
   ]
  },
  {
   "attachments": {},
   "cell_type": "markdown",
   "metadata": {},
   "source": [
    "### Evaluate average model on S1 only "
   ]
  },
  {
   "cell_type": "code",
   "execution_count": 35,
   "metadata": {},
   "outputs": [],
   "source": [
    "df1a=rm.comb_eval(models=['Md-ind','MD-avg','MD-loo'],eval_data=['MDTBs1'])\n",
    "df1a['model_type'] = df1a['model']\n"
   ]
  },
  {
   "cell_type": "code",
   "execution_count": 36,
   "metadata": {},
   "outputs": [
    {
     "data": {
      "text/plain": [
       "<AxesSubplot:xlabel='model_type', ylabel='R_eval'>"
      ]
     },
     "execution_count": 36,
     "metadata": {},
     "output_type": "execute_result"
    },
    {
     "data": {
      "image/png": "[encoded data removed]",
      "text/plain": [
       "<Figure size 432x288 with 1 Axes>"
      ]
     },
     "metadata": {
      "needs_background": "light"
     },
     "output_type": "display_data"
    }
   ],
   "source": [
    "sns.barplot(data=df1a,x='model_type',y='R_eval')"
   ]
  },
  {
   "attachments": {},
   "cell_type": "markdown",
   "metadata": {},
   "source": [
    "### Evaluation of Average model on both sessions"
   ]
  },
  {
   "cell_type": "code",
   "execution_count": 31,
   "metadata": {},
   "outputs": [],
   "source": [
    "dfa=rm.comb_eval(models=['Md-ind','Md','Md-loo'],eval_data=['MDTB'])\n",
    "dfa = dfa[dfa.logalpha==8]\n",
    "dfa['model_type'] = dfa['model']\n",
    "# dfa.loc[dfa['model'].isna() & (dfa.subj_id != dfa.eval_subj),'model_type']='diff'\n",
    "# dfa.loc[dfa['model'].isna() & (dfa.subj_id == dfa.eval_subj),'model_type']='same'\n"
   ]
  },
  {
   "cell_type": "code",
   "execution_count": 34,
   "metadata": {},
   "outputs": [
    {
     "data": {
      "text/plain": [
       "<AxesSubplot:xlabel='model_type', ylabel='R_eval'>"
      ]
     },
     "execution_count": 34,
     "metadata": {},
     "output_type": "execute_result"
    },
    {
     "data": {
      "image/png": "[encoded data removed]",
      "text/plain": [
       "<Figure size 432x288 with 1 Axes>"
      ]
     },
     "metadata": {
      "needs_background": "light"
     },
     "output_type": "display_data"
    }
   ],
   "source": [
    "sns.barplot(data=dfa,x='model_type',y='R_eval')"
   ]
  }
 ],
 "metadata": {
  "kernelspec": {
   "display_name": "base",
   "language": "python",
   "name": "python3"
  },
  "language_info": {
   "codemirror_mode": {
    "name": "ipython",
    "version": 3
   },
   "file_extension": ".py",
   "mimetype": "text/x-python",
   "name": "python",
   "nbconvert_exporter": "python",
   "pygments_lexer": "ipython3",
   "version": "3.8.5"
  },
  "vscode": {
   "interpreter": {
    "hash": "82c9595c6ac3df5bed1366f4aa85323e4ec1b3448185f6be6e163d2b6e222f49"
   }
  }
 },
 "nbformat": 4,
 "nbformat_minor": 2
}
