{
 "cells": [
  {
   "cell_type": "markdown",
   "metadata": {},
   "source": [
    "# Noise ceilings for connectivity models\n",
    "This notebook explains the different noise ceilings we can use for individual and group connectivity models. The noise ceiling is trying to capture the expected performance on a specific set of test data, if a) connectivity was perfectly linear and b) we new the true connectivity weights $\\mathbf{W}$. \n",
    "The individual noise ceiling is the performance if we knew the individual weights $\\mathbf{W}_s$, the group noise ceiling is the performance if we knew the true group mean $\\mathbf{W}$. \n",
    "\n",
    "###  1.Definitions \n",
    "Let $\\mathbf{Y}_i$ be the cerebellar data for partition (run, session, half) $i$. \n",
    "Also let $\\mathbf{X}_i$ the cortical data for that partition - and $\\mathbf{W}$ the connectivity weights for the model under question.  \n",
    "\n",
    "### 2. Individual noise ceiling based on cerebellar data only\n",
    "One limiting factor for the prediction performance in the measurement noise on the cerebellar data  (the prediction target). If each session is composed of the true activity patterns $\\mathbf{U}$ and some noise $\\boldsymbol{\\epsilon}$: \n",
    "\n",
    "$$\\mathbf{Y}_1 = \\mathbf{U} +  \\boldsymbol{\\epsilon}_1$$ \n",
    "\n",
    "and $vU$ signifies the variance of the true signal, whereas $vE$ is the variance of the noise, then the correlation between the two sessions is \n",
    "\n",
    "$$r(\\mathbf{Y}_1,\\mathbf{Y}_2) = \\frac{vU}{\\sqrt{vU+vE}\\sqrt{vU+vE}}$$ \n",
    "\n",
    "In turn the noise ceiling (best performance of true model, i.e. the correlation between true signal and measured signal) is: \n",
    "\n",
    "$$r_{ceil1} = r(\\mathbf{U},\\mathbf{Y}_i) = \\frac{vU}{\\sqrt{(vU)}\\sqrt{(vU+vE)}}=\\frac{\\sqrt{vU}}{\\sqrt{vU+vE}}=\\sqrt{r(\\mathbf{Y}_1,\\mathbf{Y}_2)}$$\n",
    "\n",
    "### 3. Individual noise ceiling based both on cerebellar and cortical data\n",
    "The noise ceiling based on cerebellar data only is somewhat optimistic, as it demands that we know both the true connectivity weights $\\mathbf(W)$, as well we the true cortical activation states $\\mathbf{X}$. So, we need to consider the fact that the prediction $\\mathbf{W} \\mathbf{X}_i$ has noise variance $vP$, which we can estimate by calculating the the correlation: \n",
    "\n",
    "$$r(\\mathbf{W}\\mathbf{Y}_1,\\mathbf{W}\\mathbf{Y}_2) = \\frac{vU}{\\sqrt{vU+vP}\\sqrt{vU+vP}}$$ \n",
    "\n",
    "then the adjusted noise ceiling becomes \n",
    "\n",
    "$$r_{ceil2} = r(\\mathbf{X}_i \\mathbf{W},\\mathbf{Y}_i) = \\frac{vU}{\\sqrt{(vU+vP)}\\sqrt{(vU+vE)}}=\\sqrt{r(\\mathbf{Y}_1,\\mathbf{Y}_2) r(\\mathbf{W}\\mathbf{Y}_1,\\mathbf{W}\\mathbf{Y}_2)}$$\n",
    "\n",
    "Since we don't know the true weights, we can only use the weights from the current model - so the noise ceiling becomes model dependent.\n",
    "\n",
    "### 4. Code implementation\n",
    "\n",
    "The module `evaluation.py` has a function `calculate_reliability` which computes the reliability between the sessions - so the snippet of `eval_models` in the `run` module gets you the reliabilities for the noise ceiling:  "
   ]
  },
  {
   "cell_type": "code",
   "execution_count": null,
   "metadata": {},
   "outputs": [],
   "source": [
    "import cortico_cereb_connectivity.evaluation as ev\n",
    "import numpy as np"
   ]
  },
  {
   "cell_type": "code",
   "execution_count": null,
   "metadata": {},
   "outputs": [],
   "source": [
    "noise_Y_R, _, noise_Y_R2, _ = ev.calculate_reliability(Y,T) # reliability  for cerebellum\n",
    "noise_X_R, _, noise_X_R2, _ = ev.calculate_reliability(Ypred,T) # reliability for cortex"
   ]
  },
  {
   "cell_type": "markdown",
   "metadata": {},
   "source": [
    "These values are stored for each model + ROI in the data frame, returned by `eval_models`. From these values we can get the noise ceiling: "
   ]
  },
  {
   "cell_type": "code",
   "execution_count": null,
   "metadata": {},
   "outputs": [],
   "source": [
    "noise_1 = np.sqrt(noise_Y_R)\n",
    "\n",
    "noise_2 = np.sqrt(noise_X_R * noise_Y_R) # model specific noise ceilung "
   ]
  }
 ],
 "metadata": {
  "kernelspec": {
   "display_name": "Python 3",
   "language": "python",
   "name": "python3"
  },
  "language_info": {
   "codemirror_mode": {
    "name": "ipython",
    "version": 3
   },
   "file_extension": ".py",
   "mimetype": "text/x-python",
   "name": "python",
   "nbconvert_exporter": "python",
   "pygments_lexer": "ipython3",
   "version": "3.7.8"
  }
 },
 "nbformat": 4,
 "nbformat_minor": 4
}
