{
 "cells": [
  {
   "cell_type": "markdown",
   "metadata": {},
   "source": [
    "# Evaluaiton of Integration methods for group model \n",
    "\n",
    "Principle 1: Never include the same subject in training and test set. \n",
    "Principle 2: Take as much data as possible for training from each subject. \n",
    "\n",
    "Use dataset: \n",
    "- MDTB \n",
    "- Language (session localizer)\n",
    "- WMFS \n",
    "- Demand\n",
    "- HCP tasks\n",
    "- Somototopic \n",
    "- Nishimoto \n",
    "- IBC   (all sessions)\n",
    "\n",
    "Resting-state: Not for now\n",
    "- HCP \n",
    "Md','Ni','Ib','Wm','De','So','Hc'"
   ]
  }
 ],
 "metadata": {
  "kernelspec": {
   "display_name": "cortico",
   "language": "python",
   "name": "python3"
  },
  "language_info": {
   "codemirror_mode": {
    "name": "ipython",
    "version": 3
   },
   "file_extension": ".py",
   "mimetype": "text/x-python",
   "name": "python",
   "nbconvert_exporter": "python",
   "pygments_lexer": "ipython3",
   "version": "3.8.10"
  }
 },
 "nbformat": 4,
 "nbformat_minor": 2
}
