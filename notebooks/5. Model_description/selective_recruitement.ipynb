{
 "cells": [
  {
   "cell_type": "code",
   "execution_count": 6,
   "metadata": {},
   "outputs": [],
   "source": [
    "import numpy as np\n",
    "import pandas as pd\n",
    "import seaborn as sns\n",
    "import cortico_cereb_connectivity.globals as gl\n",
    "import cortico_cereb_connectivity.run_model as rm\n",
    "import cortico_cereb_connectivity.scripts.script_summarize_weights as csw\n",
    "import matplotlib.pyplot as plt\n",
    "import plotly.express as px\n",
    "import seaborn as sb    \n",
    "import scipy.stats as stats\n",
    "import Functional_Fusion.atlas_map as at # from functional fusion module\n",
    "import Functional_Fusion.dataset as fdata # from functional fusion module\n",
    "import Functional_Fusion.matrix as fm\n",
    "import nibabel as nb\n",
    "import nitools as nt\n",
    "\n",
    "fig_dir =  '/Users/jdiedrichsen/Dropbox (Diedrichsenlab)/Talks/2023/08_Gordon'"
   ]
  },
  {
   "cell_type": "code",
   "execution_count": 8,
   "metadata": {},
   "outputs": [
    {
     "name": "stdout",
     "output_type": "stream",
     "text": [
      "['MDTB' 'WMFS' 'IBC' 'Demand' 'HCPur100' 'Nishimoto' 'Somatotopic'\n",
      " 'Social' 'Language']\n"
     ]
    }
   ],
   "source": [
    "D = pd.read_csv('selective_recruitment.tsv', sep='\\t')\n",
    "datasets = D['dataset'].unique()\n",
    "print (datasets)"
   ]
  },
  {
   "attachments": {},
   "cell_type": "markdown",
   "metadata": {},
   "source": [
    "##  MDTB"
   ]
  },
  {
   "cell_type": "code",
   "execution_count": 16,
   "metadata": {},
   "outputs": [
    {
     "data": {
      "application/vnd.plotly.v1+json": {
       "config": {
        "plotlyServerURL": "https://plot.ly"
       },
       "data": [
        {
         "customdata": [
          [
           "gng_ngo"
          ],
          [
           "gng_go"
          ],
          [
           "tom_task"
          ],
          [
           "actobserv_action"
          ],
          [
           "actobserv_knot"
          ],
          [
           "affect_unpleasant"
          ],
          [
           "affect_pleasant"
          ],
          [
           "arith_math"
          ],
          [
           "arith_digitjudgement"
          ],
          [
           "checkbrd_task"
          ],
          [
           "emotface_sad"
          ],
          [
           "emotface_happy"
          ],
          [
           "intrval_task"
          ],
          [
           "mtrimgry_task"
          ],
          [
           "fingr_simple"
          ],
          [
           "fingr_sequence"
          ],
          [
           "nbckverb_2bcknrep"
          ],
          [
           "nbckverb_2bckrep"
          ],
          [
           "nbckpic_2bcknrep"
          ],
          [
           "nbckpic_2bckrep"
          ],
          [
           "spatialnav_task"
          ],
          [
           "stroop_incon"
          ],
          [
           "stroop_con"
          ],
          [
           "vrbgen_generate"
          ],
          [
           "vrbgen_read"
          ],
          [
           "vissearch_small"
          ],
          [
           "vissearch_med"
          ],
          [
           "vissearch_large"
          ],
          [
           "rest_task"
          ],
          [
           "cpro_task"
          ],
          [
           "sntncpredict_nviolation"
          ],
          [
           "sntncpredict_violation"
          ],
          [
           "sntncpredict_scrambeled"
          ],
          [
           "vrbgen_generate"
          ],
          [
           "vrbgen_read"
          ],
          [
           "spatialnav_task"
          ],
          [
           "sptialmap_easy"
          ],
          [
           "sptialmap_med"
          ],
          [
           "sptialmap_diff"
          ],
          [
           "movie_nature"
          ],
          [
           "movie_romance"
          ],
          [
           "movie_landscape"
          ],
          [
           "fingr_simple"
          ],
          [
           "fingr_sequence"
          ],
          [
           "mntalrot_easy"
          ],
          [
           "mntalrot_med"
          ],
          [
           "mntalrot_diff"
          ],
          [
           "nbckpic_2bcknrep"
          ],
          [
           "nbckpic_2bckrep"
          ],
          [
           "biomotion_normal"
          ],
          [
           "biomotion_scrambeled"
          ],
          [
           "respalt_easy"
          ],
          [
           "respalt_med"
          ],
          [
           "respalt_diff"
          ],
          [
           "vissearch_small"
          ],
          [
           "vissearch_med"
          ],
          [
           "vissearch_large"
          ],
          [
           "tom_task"
          ],
          [
           "actobserv_action"
          ],
          [
           "actobserv_knot"
          ],
          [
           "rest_task"
          ]
         ],
         "hovertemplate": "cortical_act=%{x}<br>cerebellar_act=%{y}<br>names=%{customdata[0]}<extra></extra>",
         "legendgroup": "",
         "marker": {
          "color": "#636efa",
          "symbol": "circle"
         },
         "mode": "markers",
         "name": "",
         "orientation": "v",
         "showlegend": false,
         "type": "scatter",
         "x": [
          -0.0247811256635758,
          -0.0254399014130267,
          0.033644648249312,
          0.0455528435163758,
          0.0429895899827547,
          0.0164472087661094,
          0.0077974134317734,
          -0.0290317644594184,
          -0.0326182095997457,
          0.0371985313549639,
          0.012312666996515,
          0.0112644278134722,
          -0.027377163748836,
          -0.0167455865103839,
          0.0069875675524238,
          0.0218957591438143,
          -0.0371197617225452,
          -0.0204377652625773,
          0.0003072662481668,
          -0.0100783083433729,
          0.0020493178629821,
          -0.0177467672604053,
          -0.0330322339831735,
          -0.0091921032065239,
          -0.0103498862473452,
          0.0242249815771863,
          0.0195657051784861,
          0.035133492788786,
          -0.0234208430421927,
          -0.0238497430144757,
          -0.0192291643544626,
          -0.0255295232540152,
          -0.015410398285379,
          -0.0147898863629241,
          -0.0200140920647557,
          -0.0138715148154736,
          0.0021363554036746,
          0.0187779109199483,
          0.0314275348060301,
          0.0270962182541493,
          0.0453706889720008,
          0.0118977754991192,
          -0.0060827050041758,
          0.0067007346804814,
          0.0070410440882464,
          0.0102262087825559,
          0.0212175614582148,
          -0.0148254333621956,
          -0.0177883151662759,
          -0.003733070567292,
          0.0061099630073344,
          -0.0062311122741116,
          -0.0110397272761077,
          -0.0094060809669624,
          -0.0079462995689923,
          -0.0169569519976392,
          -0.0004168585850365,
          0.0123155867747799,
          0.027761114035895,
          0.0272260089849917,
          -0.0281838287471471
         ],
         "xaxis": "x",
         "y": [
          -0.007281274086006,
          0.0048739570114628,
          0.022042840451986,
          -0.0044598578888533,
          0.004119175537026,
          -0.0165974653530543,
          -0.0120234394298823,
          0.0036311480433355,
          -0.0185080588116664,
          -0.0078314587767132,
          -0.0236773812223676,
          -0.0227664060813942,
          0.0092578968413766,
          -0.011190621442368,
          0.0203825829920653,
          0.0452341535979793,
          -0.0068006906236769,
          0.0160148391910352,
          -0.0056371369681019,
          0.0041238886708241,
          -0.0085253761755139,
          0.0040098527836941,
          -0.0063855203076389,
          0.0078441134558032,
          -0.0105434776245661,
          0.0072354783991836,
          0.0090628263588617,
          0.0163455495849061,
          -0.0119501381277366,
          -0.0016070378751091,
          -0.0096661051040677,
          -0.0144247646844115,
          -0.009078739054238,
          -0.00008358143991352912,
          -0.014510893773622,
          -0.0190819314703906,
          0.007462810246668,
          0.0278760212932486,
          0.0351240592977345,
          -0.0223043423800097,
          -0.0035591395677471,
          -0.0224302327718658,
          0.0045186712004949,
          0.0389595505701901,
          0.0078612327167204,
          0.0083651051795383,
          0.0157142519309751,
          0.0013411816363346,
          -0.0166495309753397,
          -0.0103650367454345,
          -0.0071863214455097,
          0.0134071042435431,
          0.0149878576661118,
          0.0135226768121028,
          -0.0062480482237257,
          -0.0102335227356605,
          0.0010862308598615,
          0.0112609038750038,
          -0.0148471503801886,
          -0.0034401046818544,
          -0.0157711742194393
         ],
         "yaxis": "y"
        },
        {
         "hovertemplate": "<b>OLS trendline</b><br>cerebellar_act = 0.176966 * cortical_act + -6.63213e-19<br>R<sup>2</sup>=0.064924<br><br>cortical_act=%{x}<br>cerebellar_act=%{y} <b>(trend)</b><extra></extra>",
         "legendgroup": "",
         "marker": {
          "color": "#636efa",
          "symbol": "circle"
         },
         "mode": "lines",
         "name": "",
         "showlegend": false,
         "type": "scatter",
         "x": [
          -0.0371197617225452,
          -0.0330322339831735,
          -0.0326182095997457,
          -0.0290317644594184,
          -0.0281838287471471,
          -0.027377163748836,
          -0.0255295232540152,
          -0.0254399014130267,
          -0.0247811256635758,
          -0.0238497430144757,
          -0.0234208430421927,
          -0.0204377652625773,
          -0.0200140920647557,
          -0.0192291643544626,
          -0.0177883151662759,
          -0.0177467672604053,
          -0.0169569519976392,
          -0.0167455865103839,
          -0.015410398285379,
          -0.0148254333621956,
          -0.0147898863629241,
          -0.0138715148154736,
          -0.0110397272761077,
          -0.0103498862473452,
          -0.0100783083433729,
          -0.0094060809669624,
          -0.0091921032065239,
          -0.0079462995689923,
          -0.0062311122741116,
          -0.0060827050041758,
          -0.003733070567292,
          -0.0004168585850365,
          0.0003072662481668,
          0.0020493178629821,
          0.0021363554036746,
          0.0061099630073344,
          0.0067007346804814,
          0.0069875675524238,
          0.0070410440882464,
          0.0077974134317734,
          0.0102262087825559,
          0.0112644278134722,
          0.0118977754991192,
          0.012312666996515,
          0.0123155867747799,
          0.0164472087661094,
          0.0187779109199483,
          0.0195657051784861,
          0.0212175614582148,
          0.0218957591438143,
          0.0242249815771863,
          0.0270962182541493,
          0.0272260089849917,
          0.027761114035895,
          0.0314275348060301,
          0.033644648249312,
          0.035133492788786,
          0.0371985313549639,
          0.0429895899827547,
          0.0453706889720008,
          0.0455528435163758
         ],
         "xaxis": "x",
         "y": [
          -0.00656894447529801,
          -0.00584559008089561,
          -0.005772321744571542,
          -0.005137642051134732,
          -0.004987586060631178,
          -0.00484483359299199,
          -0.004517863611031724,
          -0.004502003571260244,
          -0.004385422507185485,
          -0.00422059922645094,
          -0.004144698413174095,
          -0.0036167943698707365,
          -0.003541818519191402,
          -0.00340291281757138,
          -0.0031479311615676977,
          -0.003140578585094582,
          -0.003000807951715158,
          -0.002963403397231419,
          -0.0027271201640661088,
          -0.002623601124016483,
          -0.0026173105053906606,
          -0.0024547897503279523,
          -0.0019536589712303787,
          -0.0018315804016373247,
          -0.0017835202824682858,
          -0.0016645587346161663,
          -0.0016266918959824633,
          -0.0014062267167273136,
          -0.0011026964788711595,
          -0.0010764334030673424,
          -0.000660627443198711,
          -0.00007376989431192739,
          0.000054375751073717455,
          0.0003626600664839268,
          0.0003780627723619731,
          0.0010812571492593212,
          0.0011858037879874607,
          0.0012365635214028694,
          0.0012460270626070305,
          0.001379878897583351,
          0.0018096936663420079,
          0.0019934233793251774,
          0.0021055045346857937,
          0.002178926320904075,
          0.0021794430230705833,
          0.0029106006112261016,
          0.00332305619624475,
          0.0034624691801150177,
          0.003754791966662424,
          0.0038748100576533723,
          0.004287003782112174,
          0.004795115726563414,
          0.004818084303535561,
          0.004912779829711322,
          0.0055616125092451665,
          0.005953966727820602,
          0.006217441940438015,
          0.006582884040577702,
          0.007607705882471381,
          0.008029080005706818,
          0.00806131520960889
         ],
         "yaxis": "y"
        }
       ],
       "layout": {
        "height": 500,
        "legend": {
         "tracegroupgap": 0
        },
        "margin": {
         "t": 60
        },
        "template": {
         "data": {
          "bar": [
           {
            "error_x": {
             "color": "#2a3f5f"
            },
            "error_y": {
             "color": "#2a3f5f"
            },
            "marker": {
             "line": {
              "color": "#E5ECF6",
              "width": 0.5
             },
             "pattern": {
              "fillmode": "overlay",
              "size": 10,
              "solidity": 0.2
             }
            },
            "type": "bar"
           }
          ],
          "barpolar": [
           {
            "marker": {
             "line": {
              "color": "#E5ECF6",
              "width": 0.5
             },
             "pattern": {
              "fillmode": "overlay",
              "size": 10,
              "solidity": 0.2
             }
            },
            "type": "barpolar"
           }
          ],
          "carpet": [
           {
            "aaxis": {
             "endlinecolor": "#2a3f5f",
             "gridcolor": "white",
             "linecolor": "white",
             "minorgridcolor": "white",
             "startlinecolor": "#2a3f5f"
            },
            "baxis": {
             "endlinecolor": "#2a3f5f",
             "gridcolor": "white",
             "linecolor": "white",
             "minorgridcolor": "white",
             "startlinecolor": "#2a3f5f"
            },
            "type": "carpet"
           }
          ],
          "choropleth": [
           {
            "colorbar": {
             "outlinewidth": 0,
             "ticks": ""
            },
            "type": "choropleth"
           }
          ],
          "contour": [
           {
            "colorbar": {
             "outlinewidth": 0,
             "ticks": ""
            },
            "colorscale": [
             [
              0,
              "#0d0887"
             ],
             [
              0.1111111111111111,
              "#46039f"
             ],
             [
              0.2222222222222222,
              "#7201a8"
             ],
             [
              0.3333333333333333,
              "#9c179e"
             ],
             [
              0.4444444444444444,
              "#bd3786"
             ],
             [
              0.5555555555555556,
              "#d8576b"
             ],
             [
              0.6666666666666666,
              "#ed7953"
             ],
             [
              0.7777777777777778,
              "#fb9f3a"
             ],
             [
              0.8888888888888888,
              "#fdca26"
             ],
             [
              1,
              "#f0f921"
             ]
            ],
            "type": "contour"
           }
          ],
          "contourcarpet": [
           {
            "colorbar": {
             "outlinewidth": 0,
             "ticks": ""
            },
            "type": "contourcarpet"
           }
          ],
          "heatmap": [
           {
            "colorbar": {
             "outlinewidth": 0,
             "ticks": ""
            },
            "colorscale": [
             [
              0,
              "#0d0887"
             ],
             [
              0.1111111111111111,
              "#46039f"
             ],
             [
              0.2222222222222222,
              "#7201a8"
             ],
             [
              0.3333333333333333,
              "#9c179e"
             ],
             [
              0.4444444444444444,
              "#bd3786"
             ],
             [
              0.5555555555555556,
              "#d8576b"
             ],
             [
              0.6666666666666666,
              "#ed7953"
             ],
             [
              0.7777777777777778,
              "#fb9f3a"
             ],
             [
              0.8888888888888888,
              "#fdca26"
             ],
             [
              1,
              "#f0f921"
             ]
            ],
            "type": "heatmap"
           }
          ],
          "heatmapgl": [
           {
            "colorbar": {
             "outlinewidth": 0,
             "ticks": ""
            },
            "colorscale": [
             [
              0,
              "#0d0887"
             ],
             [
              0.1111111111111111,
              "#46039f"
             ],
             [
              0.2222222222222222,
              "#7201a8"
             ],
             [
              0.3333333333333333,
              "#9c179e"
             ],
             [
              0.4444444444444444,
              "#bd3786"
             ],
             [
              0.5555555555555556,
              "#d8576b"
             ],
             [
              0.6666666666666666,
              "#ed7953"
             ],
             [
              0.7777777777777778,
              "#fb9f3a"
             ],
             [
              0.8888888888888888,
              "#fdca26"
             ],
             [
              1,
              "#f0f921"
             ]
            ],
            "type": "heatmapgl"
           }
          ],
          "histogram": [
           {
            "marker": {
             "pattern": {
              "fillmode": "overlay",
              "size": 10,
              "solidity": 0.2
             }
            },
            "type": "histogram"
           }
          ],
          "histogram2d": [
           {
            "colorbar": {
             "outlinewidth": 0,
             "ticks": ""
            },
            "colorscale": [
             [
              0,
              "#0d0887"
             ],
             [
              0.1111111111111111,
              "#46039f"
             ],
             [
              0.2222222222222222,
              "#7201a8"
             ],
             [
              0.3333333333333333,
              "#9c179e"
             ],
             [
              0.4444444444444444,
              "#bd3786"
             ],
             [
              0.5555555555555556,
              "#d8576b"
             ],
             [
              0.6666666666666666,
              "#ed7953"
             ],
             [
              0.7777777777777778,
              "#fb9f3a"
             ],
             [
              0.8888888888888888,
              "#fdca26"
             ],
             [
              1,
              "#f0f921"
             ]
            ],
            "type": "histogram2d"
           }
          ],
          "histogram2dcontour": [
           {
            "colorbar": {
             "outlinewidth": 0,
             "ticks": ""
            },
            "colorscale": [
             [
              0,
              "#0d0887"
             ],
             [
              0.1111111111111111,
              "#46039f"
             ],
             [
              0.2222222222222222,
              "#7201a8"
             ],
             [
              0.3333333333333333,
              "#9c179e"
             ],
             [
              0.4444444444444444,
              "#bd3786"
             ],
             [
              0.5555555555555556,
              "#d8576b"
             ],
             [
              0.6666666666666666,
              "#ed7953"
             ],
             [
              0.7777777777777778,
              "#fb9f3a"
             ],
             [
              0.8888888888888888,
              "#fdca26"
             ],
             [
              1,
              "#f0f921"
             ]
            ],
            "type": "histogram2dcontour"
           }
          ],
          "mesh3d": [
           {
            "colorbar": {
             "outlinewidth": 0,
             "ticks": ""
            },
            "type": "mesh3d"
           }
          ],
          "parcoords": [
           {
            "line": {
             "colorbar": {
              "outlinewidth": 0,
              "ticks": ""
             }
            },
            "type": "parcoords"
           }
          ],
          "pie": [
           {
            "automargin": true,
            "type": "pie"
           }
          ],
          "scatter": [
           {
            "fillpattern": {
             "fillmode": "overlay",
             "size": 10,
             "solidity": 0.2
            },
            "type": "scatter"
           }
          ],
          "scatter3d": [
           {
            "line": {
             "colorbar": {
              "outlinewidth": 0,
              "ticks": ""
             }
            },
            "marker": {
             "colorbar": {
              "outlinewidth": 0,
              "ticks": ""
             }
            },
            "type": "scatter3d"
           }
          ],
          "scattercarpet": [
           {
            "marker": {
             "colorbar": {
              "outlinewidth": 0,
              "ticks": ""
             }
            },
            "type": "scattercarpet"
           }
          ],
          "scattergeo": [
           {
            "marker": {
             "colorbar": {
              "outlinewidth": 0,
              "ticks": ""
             }
            },
            "type": "scattergeo"
           }
          ],
          "scattergl": [
           {
            "marker": {
             "colorbar": {
              "outlinewidth": 0,
              "ticks": ""
             }
            },
            "type": "scattergl"
           }
          ],
          "scattermapbox": [
           {
            "marker": {
             "colorbar": {
              "outlinewidth": 0,
              "ticks": ""
             }
            },
            "type": "scattermapbox"
           }
          ],
          "scatterpolar": [
           {
            "marker": {
             "colorbar": {
              "outlinewidth": 0,
              "ticks": ""
             }
            },
            "type": "scatterpolar"
           }
          ],
          "scatterpolargl": [
           {
            "marker": {
             "colorbar": {
              "outlinewidth": 0,
              "ticks": ""
             }
            },
            "type": "scatterpolargl"
           }
          ],
          "scatterternary": [
           {
            "marker": {
             "colorbar": {
              "outlinewidth": 0,
              "ticks": ""
             }
            },
            "type": "scatterternary"
           }
          ],
          "surface": [
           {
            "colorbar": {
             "outlinewidth": 0,
             "ticks": ""
            },
            "colorscale": [
             [
              0,
              "#0d0887"
             ],
             [
              0.1111111111111111,
              "#46039f"
             ],
             [
              0.2222222222222222,
              "#7201a8"
             ],
             [
              0.3333333333333333,
              "#9c179e"
             ],
             [
              0.4444444444444444,
              "#bd3786"
             ],
             [
              0.5555555555555556,
              "#d8576b"
             ],
             [
              0.6666666666666666,
              "#ed7953"
             ],
             [
              0.7777777777777778,
              "#fb9f3a"
             ],
             [
              0.8888888888888888,
              "#fdca26"
             ],
             [
              1,
              "#f0f921"
             ]
            ],
            "type": "surface"
           }
          ],
          "table": [
           {
            "cells": {
             "fill": {
              "color": "#EBF0F8"
             },
             "line": {
              "color": "white"
             }
            },
            "header": {
             "fill": {
              "color": "#C8D4E3"
             },
             "line": {
              "color": "white"
             }
            },
            "type": "table"
           }
          ]
         },
         "layout": {
          "annotationdefaults": {
           "arrowcolor": "#2a3f5f",
           "arrowhead": 0,
           "arrowwidth": 1
          },
          "autotypenumbers": "strict",
          "coloraxis": {
           "colorbar": {
            "outlinewidth": 0,
            "ticks": ""
           }
          },
          "colorscale": {
           "diverging": [
            [
             0,
             "#8e0152"
            ],
            [
             0.1,
             "#c51b7d"
            ],
            [
             0.2,
             "#de77ae"
            ],
            [
             0.3,
             "#f1b6da"
            ],
            [
             0.4,
             "#fde0ef"
            ],
            [
             0.5,
             "#f7f7f7"
            ],
            [
             0.6,
             "#e6f5d0"
            ],
            [
             0.7,
             "#b8e186"
            ],
            [
             0.8,
             "#7fbc41"
            ],
            [
             0.9,
             "#4d9221"
            ],
            [
             1,
             "#276419"
            ]
           ],
           "sequential": [
            [
             0,
             "#0d0887"
            ],
            [
             0.1111111111111111,
             "#46039f"
            ],
            [
             0.2222222222222222,
             "#7201a8"
            ],
            [
             0.3333333333333333,
             "#9c179e"
            ],
            [
             0.4444444444444444,
             "#bd3786"
            ],
            [
             0.5555555555555556,
             "#d8576b"
            ],
            [
             0.6666666666666666,
             "#ed7953"
            ],
            [
             0.7777777777777778,
             "#fb9f3a"
            ],
            [
             0.8888888888888888,
             "#fdca26"
            ],
            [
             1,
             "#f0f921"
            ]
           ],
           "sequentialminus": [
            [
             0,
             "#0d0887"
            ],
            [
             0.1111111111111111,
             "#46039f"
            ],
            [
             0.2222222222222222,
             "#7201a8"
            ],
            [
             0.3333333333333333,
             "#9c179e"
            ],
            [
             0.4444444444444444,
             "#bd3786"
            ],
            [
             0.5555555555555556,
             "#d8576b"
            ],
            [
             0.6666666666666666,
             "#ed7953"
            ],
            [
             0.7777777777777778,
             "#fb9f3a"
            ],
            [
             0.8888888888888888,
             "#fdca26"
            ],
            [
             1,
             "#f0f921"
            ]
           ]
          },
          "colorway": [
           "#636efa",
           "#EF553B",
           "#00cc96",
           "#ab63fa",
           "#FFA15A",
           "#19d3f3",
           "#FF6692",
           "#B6E880",
           "#FF97FF",
           "#FECB52"
          ],
          "font": {
           "color": "#2a3f5f"
          },
          "geo": {
           "bgcolor": "white",
           "lakecolor": "white",
           "landcolor": "#E5ECF6",
           "showlakes": true,
           "showland": true,
           "subunitcolor": "white"
          },
          "hoverlabel": {
           "align": "left"
          },
          "hovermode": "closest",
          "mapbox": {
           "style": "light"
          },
          "paper_bgcolor": "white",
          "plot_bgcolor": "#E5ECF6",
          "polar": {
           "angularaxis": {
            "gridcolor": "white",
            "linecolor": "white",
            "ticks": ""
           },
           "bgcolor": "#E5ECF6",
           "radialaxis": {
            "gridcolor": "white",
            "linecolor": "white",
            "ticks": ""
           }
          },
          "scene": {
           "xaxis": {
            "backgroundcolor": "#E5ECF6",
            "gridcolor": "white",
            "gridwidth": 2,
            "linecolor": "white",
            "showbackground": true,
            "ticks": "",
            "zerolinecolor": "white"
           },
           "yaxis": {
            "backgroundcolor": "#E5ECF6",
            "gridcolor": "white",
            "gridwidth": 2,
            "linecolor": "white",
            "showbackground": true,
            "ticks": "",
            "zerolinecolor": "white"
           },
           "zaxis": {
            "backgroundcolor": "#E5ECF6",
            "gridcolor": "white",
            "gridwidth": 2,
            "linecolor": "white",
            "showbackground": true,
            "ticks": "",
            "zerolinecolor": "white"
           }
          },
          "shapedefaults": {
           "line": {
            "color": "#2a3f5f"
           }
          },
          "ternary": {
           "aaxis": {
            "gridcolor": "white",
            "linecolor": "white",
            "ticks": ""
           },
           "baxis": {
            "gridcolor": "white",
            "linecolor": "white",
            "ticks": ""
           },
           "bgcolor": "#E5ECF6",
           "caxis": {
            "gridcolor": "white",
            "linecolor": "white",
            "ticks": ""
           }
          },
          "title": {
           "x": 0.05
          },
          "xaxis": {
           "automargin": true,
           "gridcolor": "white",
           "linecolor": "white",
           "ticks": "",
           "title": {
            "standoff": 15
           },
           "zerolinecolor": "white",
           "zerolinewidth": 2
          },
          "yaxis": {
           "automargin": true,
           "gridcolor": "white",
           "linecolor": "white",
           "ticks": "",
           "title": {
            "standoff": 15
           },
           "zerolinecolor": "white",
           "zerolinewidth": 2
          }
         }
        },
        "width": 500,
        "xaxis": {
         "anchor": "y",
         "domain": [
          0,
          1
         ],
         "title": {
          "text": "cortical_act"
         }
        },
        "yaxis": {
         "anchor": "x",
         "domain": [
          0,
          1
         ],
         "title": {
          "text": "cerebellar_act"
         }
        }
       }
      }
     },
     "metadata": {},
     "output_type": "display_data"
    }
   ],
   "source": [
    "fig = px.scatter(D[D.dataset=='MDTB'], x='cortical_act', y='cerebellar_act',hover_data=['names'],trendline=\"ols\")\n",
    "fig.update_layout(height=500, width=500) # Set overall figure dimensions\n",
    "fig.show()"
   ]
  },
  {
   "cell_type": "code",
   "execution_count": 13,
   "metadata": {},
   "outputs": [
    {
     "data": {
      "application/vnd.plotly.v1+json": {
       "config": {
        "plotlyServerURL": "https://plot.ly"
       },
       "data": [
        {
         "customdata": [
          [
           "archistandard_audiocomputation"
          ],
          [
           "archistandard_audiolhand"
          ],
          [
           "archistandard_audiorhand"
          ],
          [
           "archistandard_audiosentence"
          ],
          [
           "archistandard_horizontalcheckerboard"
          ],
          [
           "archistandard_verticalcheckerboard"
          ],
          [
           "archistandard_videocomputation"
          ],
          [
           "archistandard_videolhand"
          ],
          [
           "archistandard_videorhand"
          ],
          [
           "archistandard_videosentence"
          ],
          [
           "archispatial_objectgrasp"
          ],
          [
           "archispatial_objectorientation"
          ],
          [
           "archispatial_rotationhand"
          ],
          [
           "archispatial_rotationside"
          ],
          [
           "archispatial_saccade"
          ],
          [
           "archisocial_falsebeliefaudio"
          ],
          [
           "archisocial_falsebeliefvideo"
          ],
          [
           "archisocial_mechanisticaudio"
          ],
          [
           "archisocial_mechanisticvideo"
          ],
          [
           "archisocial_nonspeech"
          ],
          [
           "archisocial_speech"
          ],
          [
           "archisocial_triangleintention"
          ],
          [
           "archisocial_trianglerandom"
          ],
          [
           "archiemotional_expressioncontrol"
          ],
          [
           "archiemotional_expressiongender"
          ],
          [
           "archiemotional_expressionintention"
          ],
          [
           "archiemotional_facecontrol"
          ],
          [
           "archiemotional_facegender"
          ],
          [
           "archiemotional_facetrusty"
          ],
          [
           "wedge_leftmeridian"
          ],
          [
           "wedge_lowerleft"
          ],
          [
           "wedge_lowermeridian"
          ],
          [
           "wedge_lowerright"
          ],
          [
           "wedge_rightmeridian"
          ],
          [
           "wedge_upperleft"
          ],
          [
           "wedge_uppermeridian"
          ],
          [
           "wedge_upperright"
          ],
          [
           "ring_foveal"
          ],
          [
           "ring_middle"
          ],
          [
           "ring_peripheral"
          ],
          [
           "vstm_response1"
          ],
          [
           "vstm_response2"
          ],
          [
           "vstm_response3"
          ],
          [
           "vstm_response4"
          ],
          [
           "vstm_response5"
          ],
          [
           "vstm_response6"
          ],
          [
           "enumeration_response1"
          ],
          [
           "enumeration_response2"
          ],
          [
           "enumeration_response3"
          ],
          [
           "enumeration_response4"
          ],
          [
           "enumeration_response5"
          ],
          [
           "enumeration_response6"
          ],
          [
           "enumeration_response7"
          ],
          [
           "enumeration_response8"
          ],
          [
           "hcpemotion_faces"
          ],
          [
           "hcpemotion_shapes"
          ],
          [
           "hcpgamble_neutral"
          ],
          [
           "hcpgamble_punish"
          ],
          [
           "hcpgamble_reward"
          ],
          [
           "motor_cue"
          ],
          [
           "motor_lfoot"
          ],
          [
           "motor_lhand"
          ],
          [
           "motor_rfoot"
          ],
          [
           "motor_rhand"
          ],
          [
           "motor_tongue"
          ],
          [
           "hcplanguage_math"
          ],
          [
           "hcplanguage_story"
          ],
          [
           "hcprelation_match"
          ],
          [
           "hcprelation_rel"
          ],
          [
           "hcpsocial_tom"
          ],
          [
           "hcpsocial_random"
          ],
          [
           "hcpwm_0bckbody"
          ],
          [
           "hcpwm_0bckface"
          ],
          [
           "hcpwm_0bckplace"
          ],
          [
           "hcpwm_0bcktool"
          ],
          [
           "hcpwm_2bckbody"
          ],
          [
           "hcpwm_2bckface"
          ],
          [
           "hcpwm_2bckplace"
          ],
          [
           "hcpwm_2bcktool"
          ],
          [
           "ibc-motor_lfinger"
          ],
          [
           "ibc-motor_rfinger"
          ],
          [
           "ibc-motor_lfixation"
          ],
          [
           "ibc-motor_rfixation"
          ],
          [
           "ibc-motor_lfoot"
          ],
          [
           "ibc-motor_rfoot"
          ],
          [
           "ibc-motor_lhand"
          ],
          [
           "ibc-motor_rhand"
          ],
          [
           "ibc-motor_lsaccade"
          ],
          [
           "ibc-motor_rsaccade"
          ],
          [
           "ibc-motor_ltongue"
          ],
          [
           "ibc-motor_rtongue"
          ],
          [
           "mcse_highsalienceleft"
          ],
          [
           "mcse_highsalienceright"
          ],
          [
           "mcse_lowsalienceleft"
          ],
          [
           "mcse_lowsalienceright"
          ],
          [
           "mveb_2lettersdifferent"
          ],
          [
           "mveb_2letterssame"
          ],
          [
           "mveb_4lettersdifferent"
          ],
          [
           "mveb_4letterssame"
          ],
          [
           "mveb_6letterssame"
          ],
          [
           "mveb_6lettersdifferent"
          ],
          [
           "mveb_pstartup"
          ],
          [
           "mveb_response"
          ],
          [
           "mvis_2dots"
          ],
          [
           "mvis_2dotscontrol"
          ],
          [
           "mvis_4dots"
          ],
          [
           "mvis_4dotscontrol"
          ],
          [
           "mvis_6dots"
          ],
          [
           "mvis_6dotscontrol"
          ],
          [
           "mvis_pstartup"
          ],
          [
           "mvis_response"
          ],
          [
           "lec1_pseudoword"
          ],
          [
           "lec1_random_string"
          ],
          [
           "lec1_word"
          ],
          [
           "lec2_attend"
          ],
          [
           "lec2_unattend"
          ],
          [
           "audi_alphabet"
          ],
          [
           "audi_animals"
          ],
          [
           "audi_cough"
          ],
          [
           "audi_environment"
          ],
          [
           "audi_human"
          ],
          [
           "audi_laugh"
          ],
          [
           "audi_music"
          ],
          [
           "audi_reverse"
          ],
          [
           "audi_silence"
          ],
          [
           "audi_speech"
          ],
          [
           "audi_suomi"
          ],
          [
           "audi_tear"
          ],
          [
           "audi_yawn"
          ],
          [
           "visu_animal"
          ],
          [
           "visu_characters"
          ],
          [
           "visu_face"
          ],
          [
           "visu_house"
          ],
          [
           "visu_pseudoword"
          ],
          [
           "visu_scene"
          ],
          [
           "visu_scrambled"
          ],
          [
           "visu_targetfruit"
          ],
          [
           "visu_tool"
          ],
          [
           "mathlanguage_arithmeticfactauditory"
          ],
          [
           "mathlanguage_arithmeticfactvisual"
          ],
          [
           "mathlanguage_arithmeticprincipleauditory"
          ],
          [
           "mathlanguage_arithmeticprinciplevisual"
          ],
          [
           "mathlanguage_colorlessgauditory"
          ],
          [
           "mathlanguage_colorlessgvisual"
          ],
          [
           "mathlanguage_contextauditory"
          ],
          [
           "mathlanguage_contextvisual"
          ],
          [
           "mathlanguage_generalauditory"
          ],
          [
           "mathlanguage_generalvisual"
          ],
          [
           "mathlanguage_geometryfactauditory"
          ],
          [
           "mathlanguage_geometryfactvisual"
          ],
          [
           "mathlanguage_tomauditory"
          ],
          [
           "mathlanguage_tomvisual"
          ],
          [
           "mathlanguage_wordlistauditory"
          ],
          [
           "mathlanguage_wordlistvisual"
          ],
          [
           "mttwe_weaftercloseevent"
          ],
          [
           "mttwe_weafterfarevent"
          ],
          [
           "mttwe_wealleventresponse"
          ],
          [
           "mttwe_weallreference"
          ],
          [
           "mttwe_weallspacecue"
          ],
          [
           "mttwe_wealltimecue"
          ],
          [
           "mttwe_webeforecloseevent"
          ],
          [
           "mttwe_webeforefarevent"
          ],
          [
           "mttwe_weeastsidecloseevent"
          ],
          [
           "mttwe_weeastsidefarevent"
          ],
          [
           "mttwe_wewestsidecloseevent"
          ],
          [
           "mttwe_wewestsidefarevent"
          ],
          [
           "mttns_snaftercloseevent"
          ],
          [
           "mttns_snafterfarevent"
          ],
          [
           "mttns_snalleventresponse"
          ],
          [
           "mttns_snallreference"
          ],
          [
           "mttns_snallspacecue"
          ],
          [
           "mttns_snalltimecue"
          ],
          [
           "mttns_snbeforecloseevent"
          ],
          [
           "mttns_snbeforefarevent"
          ],
          [
           "mttns_snnorthsidecloseevent"
          ],
          [
           "mttns_snnorthsidefarevent"
          ],
          [
           "mttns_snsouthsidecloseevent"
          ],
          [
           "mttns_snsouthsidefarevent"
          ],
          [
           "preferencefood_foodconstant"
          ],
          [
           "preferencepaintings_paintingconstant"
          ],
          [
           "preferencefaces_faceconstant"
          ],
          [
           "preferencehouses_houseconstant"
          ],
          [
           "rsvpLanguage_complexsentence"
          ],
          [
           "rsvpLanguage_consonantstring"
          ],
          [
           "rsvpLanguage_jabberwocky"
          ],
          [
           "rsvpLanguage_probe"
          ],
          [
           "rsvpLanguage_pseudowordlist"
          ],
          [
           "rsvpLanguage_simplesentence"
          ],
          [
           "rsvpLanguage_wordlist"
          ],
          [
           "spatialnavigation_control"
          ],
          [
           "spatialnavigation_experimental"
          ],
          [
           "spatialnavigation_intersection"
          ],
          [
           "spatialnavigation_navigation"
          ],
          [
           "spatialnavigation_pointingcontrol"
          ],
          [
           "spatialnavigation_pointingexperimental"
          ],
          [
           "TheoryOfMind_belief"
          ],
          [
           "TheoryOfMind_photo"
          ],
          [
           "emotionalpain_emotionalpain"
          ],
          [
           "emotionalpain_physicalpain"
          ],
          [
           "painmovie_mental"
          ],
          [
           "painmovie_pain"
          ]
         ],
         "hovertemplate": "cortical_act=%{x}<br>cerebellar_act=%{y}<br>names=%{customdata[0]}<extra></extra>",
         "legendgroup": "",
         "marker": {
          "color": "#636efa",
          "symbol": "circle"
         },
         "mode": "markers",
         "name": "",
         "orientation": "v",
         "showlegend": false,
         "type": "scatter",
         "x": [
          -0.0003369481083527,
          0.0353803138840861,
          0.1063893089628471,
          -0.0412367648437322,
          0.0571436786079952,
          0.0238196745482593,
          0.0389035234070966,
          0.1169534152381136,
          0.0707810418895107,
          0.0092687531001377,
          0.0258474703119691,
          0.0184761107345781,
          0.000023072651657801907,
          0.0007367200398227,
          0.0080910739140248,
          -0.0191442350407702,
          0.0119344693159835,
          -0.0252329657237111,
          0.004178116065765,
          -0.020593832774377,
          -0.0251010894030549,
          0.0051281252156447,
          -0.0142580644065301,
          0.0144065099072025,
          -0.0045157845139438,
          -0.0043944621579719,
          -0.0019410161104743,
          0.0023793037461672,
          0.0043870199262373,
          -0.0428921117768301,
          -0.0430611902084744,
          -0.0475593057308374,
          -0.0471743997569133,
          -0.0460113721951086,
          -0.0455789925963245,
          -0.0516758547460397,
          -0.0498713831048763,
          -0.030645746087108,
          -0.0482166096675875,
          -0.044594783613373,
          0.0566069954071257,
          0.053995668855541,
          0.0467288900662864,
          0.0577124776137127,
          0.0510419845997629,
          null,
          0.1247719763969982,
          0.1220403180372191,
          0.1023548929044902,
          0.1339026351773894,
          0.1376843170148881,
          0.1275158793032387,
          0.1453976854528255,
          0.111417263787182,
          -0.0109298781136013,
          -0.0182980697501899,
          0.0281867806675182,
          0.0116505342229982,
          0.0255245764411212,
          0.172848818233179,
          0.0159090964562925,
          -0.0095666121916407,
          0.0156738403525406,
          0.0093945990762521,
          0.0114019766367986,
          -0.0075906470851108,
          -0.0079012906294688,
          -0.0064525498732422,
          -0.0090550210815346,
          0.0495804170501061,
          0.0428239792035422,
          0.0127163992691061,
          0.0170731073054708,
          0.005245489661093,
          0.0047304773608503,
          0.0115733513900027,
          0.0057650627678999,
          0.0143005419742914,
          0.0073319718732356,
          -0.2071590099708824,
          -0.1601018790248855,
          -0.1952768999034455,
          -0.1379975652516408,
          -0.1522603511989393,
          -0.1217569140241144,
          -0.1524023491033949,
          -0.130103466262752,
          -0.1561649497269616,
          -0.1229108442917616,
          -0.143741228069083,
          -0.1337770169254898,
          0.0570681393280839,
          0.0365439730846869,
          0.0564061143181127,
          0.0445207764202275,
          -0.051620236302464,
          -0.0265795690405337,
          -0.017945797966332,
          -0.0656415497388423,
          -0.0050788783671636,
          -0.0536273969758804,
          0.0283447588141431,
          0.0875854176951232,
          -0.0953446463207177,
          -0.0990194327888599,
          -0.082893976036233,
          -0.0526682947084595,
          0.0075289179006149,
          -0.001292679583089,
          0.0034913871748798,
          -0.0009114009959131,
          0.0188526057413856,
          0.0026937586305588,
          0.00889835963876,
          -0.0366357918710839,
          -0.0066446704048624,
          0.00797385453596,
          -0.0030964258909693,
          0.0002747602573707,
          0.00038417603841,
          -0.0013119419599399,
          -0.0004492562787114,
          -0.0062824607154933,
          0.0083607528383525,
          -0.0007590762330396,
          0.0020438602062435,
          -0.000007753451153433443,
          -0.0052063757566118,
          -0.0060502977229534,
          -0.0405839755136987,
          -0.1164251836792032,
          -0.1530119413121264,
          -0.0317834059687968,
          -0.0559676553546273,
          -0.0995711038894754,
          -0.0821096503140083,
          0.2030071539621638,
          -0.1073615547276818,
          0.0019438591775395,
          -0.0019341095708831,
          -0.0042630539905541,
          -0.0068430231039085,
          -0.0011983684867335,
          -0.0038845111264444,
          -0.0021344353397283,
          -0.0127627486389594,
          -0.0050841925705582,
          -0.014424229973094,
          -0.0027593004004656,
          0.0036768493223985,
          -0.0174792204167224,
          0.0048219428577573,
          -0.0048997125402854,
          0.002059530320183,
          0.0373607237662311,
          0.0334213550930383,
          -0.0192430200076055,
          0.026925893224613,
          -0.0002418882042106,
          -0.002004431987787,
          0.0333064949225569,
          0.0312476415482168,
          0.0091302312290107,
          0.0274136953489115,
          0.0291564316273781,
          0.0284013155851546,
          0.0429000833153038,
          0.0111592014804706,
          -0.0059594429520028,
          0.0256838189014693,
          -0.0072321187466199,
          0.0065578488989884,
          0.035977247082696,
          0.0155996298302547,
          0.0081342789285483,
          0.0305632295375427,
          0.0012411372123948,
          0.0218011017620586,
          0.0555676242691487,
          0.0555873509245676,
          0.0480736461943994,
          0.0586757126859723,
          -0.0389641225919617,
          -0.0183657481334058,
          -0.0354891980866122,
          0.1216783962899971,
          -0.0399987929851253,
          -0.0395917921843067,
          -0.0268066061491637,
          0.0323543908618595,
          0.042759969910961,
          0.0324888279019673,
          0.0344525990820676,
          0.048843283172558,
          0.0415709014076796,
          0.0375064931070358,
          0.0295421622405674,
          0.0360083731467176,
          0.0334876730264743,
          0.0052228544713362,
          0.0011785895631896
         ],
         "xaxis": "x",
         "y": [
          0.037511892645027,
          0.0459815135191666,
          0.0991273980511207,
          0.0168411148058081,
          0.0215272948294351,
          0.0076635475289526,
          0.0571503649094876,
          0.1153360694939147,
          0.1013786974582537,
          0.0135433040371277,
          0.0133565176205707,
          0.0077593044399199,
          0.0017923951464313,
          -0.0057923127919518,
          0.000629389237356,
          -0.0150989512801583,
          0.0115613857370764,
          -0.0186455378272879,
          0.0085921372272029,
          -0.0058002882773596,
          -0.0154269313291519,
          -0.0006797811496711,
          -0.0082652565585899,
          0.0030564069943892,
          -0.0106796256543722,
          -0.0080569839397358,
          -0.0042816264537705,
          -0.0006592408593324,
          -0.0016479092341655,
          -0.0193215566836585,
          -0.0206851662458114,
          -0.0219602772365894,
          -0.0211271515237822,
          -0.0194990123117507,
          -0.0198678212035152,
          -0.0221845693180409,
          -0.0204293475483794,
          -0.0250007940285509,
          -0.0274871861449447,
          -0.0260654277123814,
          0.0819445374995667,
          0.0903587663694174,
          0.0902590343307667,
          0.0850953256617602,
          0.0856032730351723,
          null,
          0.1216790394565543,
          0.1415158886081468,
          0.128093326135197,
          0.1458042859770179,
          0.1511417443925181,
          0.1436695948816062,
          0.158949755871061,
          0.1337577814555652,
          0.0074256609799028,
          0.014525149053064,
          0.0311762786593233,
          0.0179899863389424,
          0.0267210436697729,
          0.0946493378535627,
          0.0080050921832617,
          -0.002147000032511,
          0.0128787232686455,
          0.0131780477329331,
          -0.0120320245369623,
          0.0159985771853,
          0.0090220302664083,
          0.007814083116938,
          0.0094511392827099,
          0.0242638080078181,
          0.0181808368518057,
          0.0180581135786386,
          0.0139814877607069,
          0.0034103576435203,
          0.0062733726538853,
          0.025821277237382,
          0.0237259511948336,
          0.0270944437566296,
          0.0170117671304242,
          -0.057805021458945,
          -0.0512988009433603,
          -0.1072898464286594,
          -0.0484765228476003,
          -0.0471000878615987,
          -0.0225437477933581,
          -0.049036291542546,
          -0.028774783849736,
          -0.0242064290243151,
          0.0012569442853183,
          -0.1443468925292427,
          -0.1755111085239803,
          0.0287907203703747,
          0.0199994452880066,
          0.0574632430844427,
          0.0511723216525214,
          -0.0154894306022729,
          0.013170424109034,
          0.0062580850198571,
          -0.1307388628035025,
          0.0524306102486226,
          -0.0004914292376298,
          0.0123445199096511,
          0.1149224372026124,
          -0.0377632263551786,
          -0.0356685585576765,
          -0.0326061183636907,
          -0.010569036466728,
          0.0245965596929177,
          0.0085417031301107,
          -0.0062403140284528,
          0.0117720466179254,
          0.0260367145153604,
          0.0035773885431837,
          0.0136684131092118,
          -0.0259547647350465,
          -0.0247031632928588,
          0.0055480872823033,
          -0.0038576486046797,
          -0.0052959218980256,
          -0.0020622212678077,
          0.0012255117155,
          -0.0013940996984389,
          -0.0009260773979203,
          0.0005013158864599,
          -0.0014632858085703,
          0.0013814537602833,
          -0.0062179808083992,
          -0.0014817369627695,
          -0.0020393883090331,
          -0.0326613800432366,
          -0.0590603220082983,
          -0.1130825637166236,
          -0.044833718005169,
          -0.0445960802402277,
          -0.1279097269488836,
          -0.0933928232816351,
          0.1870986547467036,
          -0.1310830020526104,
          -0.0020932512864899,
          -0.0110692611733046,
          -0.0114095455576267,
          -0.0141136435031475,
          -0.0118331924350678,
          -0.0071351100739277,
          -0.0098004566692435,
          -0.0087052217965815,
          -0.0070269181990238,
          -0.0201001335506615,
          -0.0103736363123512,
          -0.011222892725406,
          -0.0175938075795414,
          -0.0079317785399012,
          -0.0167702726205657,
          -0.0018857895514432,
          0.0610772132479572,
          0.0417460400967365,
          0.0093101978821018,
          0.0393735061478334,
          0.0352417203528904,
          0.0335988721004719,
          0.048507015779915,
          0.0431558107735889,
          0.026451344430611,
          0.0367107336221921,
          0.03735408212022,
          0.0372357842451915,
          0.0594293737188012,
          0.0331395420502582,
          0.0211653027533274,
          0.050430507978753,
          0.0393279597767518,
          0.0312606813784214,
          0.0507791116675811,
          0.0307637826990871,
          0.0295363013623834,
          0.0442858616397967,
          0.0192175698281639,
          0.0364036248130376,
          0.0471775090291567,
          0.046693198389308,
          0.0454847473178619,
          0.0464731502983381,
          -0.0556480911012328,
          -0.0387070279492214,
          -0.04611107667879,
          0.1149739802057487,
          -0.0499321709383806,
          -0.0526805816410776,
          -0.044833999620196,
          0.0054264804327201,
          0.0205288917865322,
          0.0188107756146893,
          0.0143811827523264,
          0.0447310982706911,
          0.0485262587526613,
          0.0243517066407805,
          0.0167190809667753,
          0.0233210491946989,
          0.0181150110741622,
          0.0016339979068618,
          0.0024454524166875
         ],
         "yaxis": "y"
        },
        {
         "hovertemplate": "<b>OLS trendline</b><br>cerebellar_act = 0.733418 * cortical_act + 0.0108376<br>R<sup>2</sup>=0.750716<br><br>cortical_act=%{x}<br>cerebellar_act=%{y} <b>(trend)</b><extra></extra>",
         "legendgroup": "",
         "marker": {
          "color": "#636efa",
          "symbol": "circle"
         },
         "mode": "lines",
         "name": "",
         "showlegend": false,
         "type": "scatter",
         "x": [
          -0.2071590099708824,
          -0.1952768999034455,
          -0.1601018790248855,
          -0.1561649497269616,
          -0.1530119413121264,
          -0.1524023491033949,
          -0.1522603511989393,
          -0.143741228069083,
          -0.1379975652516408,
          -0.1337770169254898,
          -0.130103466262752,
          -0.1229108442917616,
          -0.1217569140241144,
          -0.1164251836792032,
          -0.1073615547276818,
          -0.0995711038894754,
          -0.0990194327888599,
          -0.0953446463207177,
          -0.082893976036233,
          -0.0821096503140083,
          -0.0656415497388423,
          -0.0559676553546273,
          -0.0536273969758804,
          -0.0526682947084595,
          -0.0516758547460397,
          -0.051620236302464,
          -0.0498713831048763,
          -0.0482166096675875,
          -0.0475593057308374,
          -0.0471743997569133,
          -0.0460113721951086,
          -0.0455789925963245,
          -0.044594783613373,
          -0.0430611902084744,
          -0.0428921117768301,
          -0.0412367648437322,
          -0.0405839755136987,
          -0.0399987929851253,
          -0.0395917921843067,
          -0.0389641225919617,
          -0.0366357918710839,
          -0.0354891980866122,
          -0.0317834059687968,
          -0.030645746087108,
          -0.0268066061491637,
          -0.0265795690405337,
          -0.0252329657237111,
          -0.0251010894030549,
          -0.020593832774377,
          -0.0192430200076055,
          -0.0191442350407702,
          -0.0183657481334058,
          -0.0182980697501899,
          -0.017945797966332,
          -0.0174792204167224,
          -0.014424229973094,
          -0.0142580644065301,
          -0.0127627486389594,
          -0.0109298781136013,
          -0.0095666121916407,
          -0.0090550210815346,
          -0.0079012906294688,
          -0.0075906470851108,
          -0.0072321187466199,
          -0.0068430231039085,
          -0.0066446704048624,
          -0.0064525498732422,
          -0.0062824607154933,
          -0.0060502977229534,
          -0.0059594429520028,
          -0.0052063757566118,
          -0.0050841925705582,
          -0.0050788783671636,
          -0.0048997125402854,
          -0.0045157845139438,
          -0.0043944621579719,
          -0.0042630539905541,
          -0.0038845111264444,
          -0.0030964258909693,
          -0.0027593004004656,
          -0.0021344353397283,
          -0.002004431987787,
          -0.0019410161104743,
          -0.0019341095708831,
          -0.0013119419599399,
          -0.001292679583089,
          -0.0011983684867335,
          -0.0009114009959131,
          -0.0007590762330396,
          -0.0004492562787114,
          -0.0003369481083527,
          -0.0002418882042106,
          -0.000007753451153433443,
          0.000023072651657801907,
          0.0002747602573707,
          0.00038417603841,
          0.0007367200398227,
          0.0011785895631896,
          0.0012411372123948,
          0.0019438591775395,
          0.0020438602062435,
          0.002059530320183,
          0.0023793037461672,
          0.0026937586305588,
          0.0034913871748798,
          0.0036768493223985,
          0.004178116065765,
          0.0043870199262373,
          0.0047304773608503,
          0.0048219428577573,
          0.0051281252156447,
          0.0052228544713362,
          0.005245489661093,
          0.0057650627678999,
          0.0065578488989884,
          0.0073319718732356,
          0.0075289179006149,
          0.00797385453596,
          0.0080910739140248,
          0.0081342789285483,
          0.0083607528383525,
          0.00889835963876,
          0.0091302312290107,
          0.0092687531001377,
          0.0093945990762521,
          0.0111592014804706,
          0.0114019766367986,
          0.0115733513900027,
          0.0116505342229982,
          0.0119344693159835,
          0.0127163992691061,
          0.0143005419742914,
          0.0144065099072025,
          0.0155996298302547,
          0.0156738403525406,
          0.0159090964562925,
          0.0170731073054708,
          0.0184761107345781,
          0.0188526057413856,
          0.0218011017620586,
          0.0238196745482593,
          0.0255245764411212,
          0.0256838189014693,
          0.0258474703119691,
          0.026925893224613,
          0.0274136953489115,
          0.0281867806675182,
          0.0283447588141431,
          0.0284013155851546,
          0.0291564316273781,
          0.0295421622405674,
          0.0305632295375427,
          0.0312476415482168,
          0.0323543908618595,
          0.0324888279019673,
          0.0333064949225569,
          0.0334213550930383,
          0.0334876730264743,
          0.0344525990820676,
          0.0353803138840861,
          0.035977247082696,
          0.0360083731467176,
          0.0365439730846869,
          0.0373607237662311,
          0.0375064931070358,
          0.0389035234070966,
          0.0415709014076796,
          0.042759969910961,
          0.0428239792035422,
          0.0429000833153038,
          0.0445207764202275,
          0.0467288900662864,
          0.0480736461943994,
          0.048843283172558,
          0.0495804170501061,
          0.0510419845997629,
          0.053995668855541,
          0.0555676242691487,
          0.0555873509245676,
          0.0564061143181127,
          0.0566069954071257,
          0.0570681393280839,
          0.0571436786079952,
          0.0577124776137127,
          0.0586757126859723,
          0.0707810418895107,
          0.0875854176951232,
          0.1023548929044902,
          0.1063893089628471,
          0.111417263787182,
          0.1169534152381136,
          0.1216783962899971,
          0.1220403180372191,
          0.1247719763969982,
          0.1275158793032387,
          0.1339026351773894,
          0.1376843170148881,
          0.1453976854528255,
          0.172848818233179,
          0.2030071539621638
         ],
         "xaxis": "x",
         "y": [
          -0.14109655341653796,
          -0.13238199895745856,
          -0.10658400236377873,
          -0.10369658720152347,
          -0.10138411379527905,
          -0.10093702784247512,
          -0.10083288401074571,
          -0.09458480500479603,
          -0.09037229879730335,
          -0.08727687230935859,
          -0.08458262380240787,
          -0.07930742474146468,
          -0.07846111140971478,
          -0.07455072392902738,
          -0.06790329450389668,
          -0.06218963693760424,
          -0.061785031373228154,
          -0.05908987650423936,
          -0.04995832969728502,
          -0.04938309102492871,
          -0.03730508817144749,
          -0.030210079038881083,
          -0.028493691210948264,
          -0.02779026825881019,
          -0.027062394838113995,
          -0.02702160326551293,
          -0.025738962695377166,
          -0.024525321923254448,
          -0.0240432433260637,
          -0.023760946322219322,
          -0.02290796087037325,
          -0.022590845851305625,
          -0.02186900917984175,
          -0.020744244035500955,
          -0.020620238855271394,
          -0.019406177470948312,
          -0.018927409967988293,
          -0.018498226516159292,
          -0.01819972476659692,
          -0.017739380533648857,
          -0.016031740665756772,
          -0.015190808043477506,
          -0.012472913070156851,
          -0.01163853273378403,
          -0.00882283805705064,
          -0.008656324934704614,
          -0.007668701703424544,
          -0.007571981224343054,
          -0.0042662776810553915,
          -0.0032755671630380102,
          -0.003203116481438637,
          -0.0026321601015192615,
          -0.0025825235510336924,
          -0.002324161052504092,
          -0.0019819646376939264,
          0.0002586206154192581,
          0.00038048944770800367,
          0.0014771810804279075,
          0.002821441478540858,
          0.0038212853658391886,
          0.004196495540168284,
          0.005042662323556322,
          0.005270493918223008,
          0.005533445087095338,
          0.005818814869815287,
          0.005964290327299876,
          0.006105195000460565,
          0.006229941465498274,
          0.006400214003825991,
          0.006466848536314123,
          0.007019161639654757,
          0.007108772998479479,
          0.007112670531377763,
          0.0072440739897428694,
          0.007525653749140138,
          0.007614633759611376,
          0.007711010886639393,
          0.007988641070643527,
          0.008566637038023555,
          0.008813890971025716,
          0.009272178309761486,
          0.009367525119707315,
          0.00941403547125896,
          0.009419100852327618,
          0.009875409832590195,
          0.009889537208209995,
          0.009958706672271589,
          0.010169173820997404,
          0.010280891557493158,
          0.01050811911633406,
          0.010590487960018874,
          0.010660206613256354,
          0.010831925276414632,
          0.010854533697830107,
          0.011039125940639848,
          0.01111937345367735,
          0.011377935601485787,
          0.011702010702905795,
          0.01174788428025801,
          0.012263273281040578,
          0.012336615844411812,
          0.012348108589431906,
          0.012582636204433778,
          0.012813263104824479,
          0.01339825830754111,
          0.013534279601358175,
          0.013901917698362862,
          0.014055131568497503,
          0.014307029463848032,
          0.014374111913800017,
          0.014598671593610713,
          0.01466814774329342,
          0.014684748800909255,
          0.015065813116005146,
          0.015647256805262594,
          0.016215012597694582,
          0.01635945637673344,
          0.01668578095355928,
          0.01677175176581464,
          0.016803439105002163,
          0.016969539167141636,
          0.01736382971933589,
          0.01753388853795353,
          0.01763548298396174,
          0.0177277806992733,
          0.019021972022439666,
          0.019200027713653124,
          0.01932571705765283,
          0.019382324343532854,
          0.01959056747683333,
          0.020164049048793063,
          0.021325887964350976,
          0.021403606763203093,
          0.022278662497129138,
          0.02233308983656858,
          0.022505630918610502,
          0.02335933753120306,
          0.024388325625054993,
          0.02466445387346998,
          0.026826934190408873,
          0.02830739198579405,
          0.02955779787400827,
          0.029674589174966202,
          0.02979461407971894,
          0.03058554895145604,
          0.03094331185327461,
          0.03151030661028969,
          0.03162617064069285,
          0.03166765039960874,
          0.03222146616427794,
          0.03250436797347633,
          0.0332532371991757,
          0.033755197348140566,
          0.03456690731476676,
          0.03466550587181494,
          0.03526519765550318,
          0.03534943818224114,
          0.03539807695424894,
          0.03610577117797922,
          0.03678617399522296,
          0.03722397560101473,
          0.037246804019407886,
          0.037639622702387805,
          0.03823864242644449,
          0.03834555229781388,
          0.03937015959077511,
          0.041326462866633,
          0.04219854721601297,
          0.04224549278905682,
          0.04230130892127091,
          0.04348995456115755,
          0.04510942505176945,
          0.04609569352143608,
          0.04666015920318946,
          0.04720078652300615,
          0.0482727266022361,
          0.05043901206465112,
          0.05159191260010997,
          0.05160638048602988,
          0.052206876369476,
          0.052354206193898384,
          0.05269241748716664,
          0.05274781936148446,
          0.053164986841289216,
          0.053871440867254344,
          0.06274970827856402,
          0.07507434146894108,
          0.08590654175269219,
          0.08886545546848809,
          0.09255304848738606,
          0.09661336210500447,
          0.10007874867869064,
          0.10034418863490976,
          0.10234763628897021,
          0.1043600643148972,
          0.10904422660309736,
          0.11181778046960372,
          0.11747490440919447,
          0.13760806175415194,
          0.15972673071225985
         ],
         "yaxis": "y"
        }
       ],
       "layout": {
        "legend": {
         "tracegroupgap": 0
        },
        "margin": {
         "t": 60
        },
        "template": {
         "data": {
          "bar": [
           {
            "error_x": {
             "color": "#2a3f5f"
            },
            "error_y": {
             "color": "#2a3f5f"
            },
            "marker": {
             "line": {
              "color": "#E5ECF6",
              "width": 0.5
             },
             "pattern": {
              "fillmode": "overlay",
              "size": 10,
              "solidity": 0.2
             }
            },
            "type": "bar"
           }
          ],
          "barpolar": [
           {
            "marker": {
             "line": {
              "color": "#E5ECF6",
              "width": 0.5
             },
             "pattern": {
              "fillmode": "overlay",
              "size": 10,
              "solidity": 0.2
             }
            },
            "type": "barpolar"
           }
          ],
          "carpet": [
           {
            "aaxis": {
             "endlinecolor": "#2a3f5f",
             "gridcolor": "white",
             "linecolor": "white",
             "minorgridcolor": "white",
             "startlinecolor": "#2a3f5f"
            },
            "baxis": {
             "endlinecolor": "#2a3f5f",
             "gridcolor": "white",
             "linecolor": "white",
             "minorgridcolor": "white",
             "startlinecolor": "#2a3f5f"
            },
            "type": "carpet"
           }
          ],
          "choropleth": [
           {
            "colorbar": {
             "outlinewidth": 0,
             "ticks": ""
            },
            "type": "choropleth"
           }
          ],
          "contour": [
           {
            "colorbar": {
             "outlinewidth": 0,
             "ticks": ""
            },
            "colorscale": [
             [
              0,
              "#0d0887"
             ],
             [
              0.1111111111111111,
              "#46039f"
             ],
             [
              0.2222222222222222,
              "#7201a8"
             ],
             [
              0.3333333333333333,
              "#9c179e"
             ],
             [
              0.4444444444444444,
              "#bd3786"
             ],
             [
              0.5555555555555556,
              "#d8576b"
             ],
             [
              0.6666666666666666,
              "#ed7953"
             ],
             [
              0.7777777777777778,
              "#fb9f3a"
             ],
             [
              0.8888888888888888,
              "#fdca26"
             ],
             [
              1,
              "#f0f921"
             ]
            ],
            "type": "contour"
           }
          ],
          "contourcarpet": [
           {
            "colorbar": {
             "outlinewidth": 0,
             "ticks": ""
            },
            "type": "contourcarpet"
           }
          ],
          "heatmap": [
           {
            "colorbar": {
             "outlinewidth": 0,
             "ticks": ""
            },
            "colorscale": [
             [
              0,
              "#0d0887"
             ],
             [
              0.1111111111111111,
              "#46039f"
             ],
             [
              0.2222222222222222,
              "#7201a8"
             ],
             [
              0.3333333333333333,
              "#9c179e"
             ],
             [
              0.4444444444444444,
              "#bd3786"
             ],
             [
              0.5555555555555556,
              "#d8576b"
             ],
             [
              0.6666666666666666,
              "#ed7953"
             ],
             [
              0.7777777777777778,
              "#fb9f3a"
             ],
             [
              0.8888888888888888,
              "#fdca26"
             ],
             [
              1,
              "#f0f921"
             ]
            ],
            "type": "heatmap"
           }
          ],
          "heatmapgl": [
           {
            "colorbar": {
             "outlinewidth": 0,
             "ticks": ""
            },
            "colorscale": [
             [
              0,
              "#0d0887"
             ],
             [
              0.1111111111111111,
              "#46039f"
             ],
             [
              0.2222222222222222,
              "#7201a8"
             ],
             [
              0.3333333333333333,
              "#9c179e"
             ],
             [
              0.4444444444444444,
              "#bd3786"
             ],
             [
              0.5555555555555556,
              "#d8576b"
             ],
             [
              0.6666666666666666,
              "#ed7953"
             ],
             [
              0.7777777777777778,
              "#fb9f3a"
             ],
             [
              0.8888888888888888,
              "#fdca26"
             ],
             [
              1,
              "#f0f921"
             ]
            ],
            "type": "heatmapgl"
           }
          ],
          "histogram": [
           {
            "marker": {
             "pattern": {
              "fillmode": "overlay",
              "size": 10,
              "solidity": 0.2
             }
            },
            "type": "histogram"
           }
          ],
          "histogram2d": [
           {
            "colorbar": {
             "outlinewidth": 0,
             "ticks": ""
            },
            "colorscale": [
             [
              0,
              "#0d0887"
             ],
             [
              0.1111111111111111,
              "#46039f"
             ],
             [
              0.2222222222222222,
              "#7201a8"
             ],
             [
              0.3333333333333333,
              "#9c179e"
             ],
             [
              0.4444444444444444,
              "#bd3786"
             ],
             [
              0.5555555555555556,
              "#d8576b"
             ],
             [
              0.6666666666666666,
              "#ed7953"
             ],
             [
              0.7777777777777778,
              "#fb9f3a"
             ],
             [
              0.8888888888888888,
              "#fdca26"
             ],
             [
              1,
              "#f0f921"
             ]
            ],
            "type": "histogram2d"
           }
          ],
          "histogram2dcontour": [
           {
            "colorbar": {
             "outlinewidth": 0,
             "ticks": ""
            },
            "colorscale": [
             [
              0,
              "#0d0887"
             ],
             [
              0.1111111111111111,
              "#46039f"
             ],
             [
              0.2222222222222222,
              "#7201a8"
             ],
             [
              0.3333333333333333,
              "#9c179e"
             ],
             [
              0.4444444444444444,
              "#bd3786"
             ],
             [
              0.5555555555555556,
              "#d8576b"
             ],
             [
              0.6666666666666666,
              "#ed7953"
             ],
             [
              0.7777777777777778,
              "#fb9f3a"
             ],
             [
              0.8888888888888888,
              "#fdca26"
             ],
             [
              1,
              "#f0f921"
             ]
            ],
            "type": "histogram2dcontour"
           }
          ],
          "mesh3d": [
           {
            "colorbar": {
             "outlinewidth": 0,
             "ticks": ""
            },
            "type": "mesh3d"
           }
          ],
          "parcoords": [
           {
            "line": {
             "colorbar": {
              "outlinewidth": 0,
              "ticks": ""
             }
            },
            "type": "parcoords"
           }
          ],
          "pie": [
           {
            "automargin": true,
            "type": "pie"
           }
          ],
          "scatter": [
           {
            "fillpattern": {
             "fillmode": "overlay",
             "size": 10,
             "solidity": 0.2
            },
            "type": "scatter"
           }
          ],
          "scatter3d": [
           {
            "line": {
             "colorbar": {
              "outlinewidth": 0,
              "ticks": ""
             }
            },
            "marker": {
             "colorbar": {
              "outlinewidth": 0,
              "ticks": ""
             }
            },
            "type": "scatter3d"
           }
          ],
          "scattercarpet": [
           {
            "marker": {
             "colorbar": {
              "outlinewidth": 0,
              "ticks": ""
             }
            },
            "type": "scattercarpet"
           }
          ],
          "scattergeo": [
           {
            "marker": {
             "colorbar": {
              "outlinewidth": 0,
              "ticks": ""
             }
            },
            "type": "scattergeo"
           }
          ],
          "scattergl": [
           {
            "marker": {
             "colorbar": {
              "outlinewidth": 0,
              "ticks": ""
             }
            },
            "type": "scattergl"
           }
          ],
          "scattermapbox": [
           {
            "marker": {
             "colorbar": {
              "outlinewidth": 0,
              "ticks": ""
             }
            },
            "type": "scattermapbox"
           }
          ],
          "scatterpolar": [
           {
            "marker": {
             "colorbar": {
              "outlinewidth": 0,
              "ticks": ""
             }
            },
            "type": "scatterpolar"
           }
          ],
          "scatterpolargl": [
           {
            "marker": {
             "colorbar": {
              "outlinewidth": 0,
              "ticks": ""
             }
            },
            "type": "scatterpolargl"
           }
          ],
          "scatterternary": [
           {
            "marker": {
             "colorbar": {
              "outlinewidth": 0,
              "ticks": ""
             }
            },
            "type": "scatterternary"
           }
          ],
          "surface": [
           {
            "colorbar": {
             "outlinewidth": 0,
             "ticks": ""
            },
            "colorscale": [
             [
              0,
              "#0d0887"
             ],
             [
              0.1111111111111111,
              "#46039f"
             ],
             [
              0.2222222222222222,
              "#7201a8"
             ],
             [
              0.3333333333333333,
              "#9c179e"
             ],
             [
              0.4444444444444444,
              "#bd3786"
             ],
             [
              0.5555555555555556,
              "#d8576b"
             ],
             [
              0.6666666666666666,
              "#ed7953"
             ],
             [
              0.7777777777777778,
              "#fb9f3a"
             ],
             [
              0.8888888888888888,
              "#fdca26"
             ],
             [
              1,
              "#f0f921"
             ]
            ],
            "type": "surface"
           }
          ],
          "table": [
           {
            "cells": {
             "fill": {
              "color": "#EBF0F8"
             },
             "line": {
              "color": "white"
             }
            },
            "header": {
             "fill": {
              "color": "#C8D4E3"
             },
             "line": {
              "color": "white"
             }
            },
            "type": "table"
           }
          ]
         },
         "layout": {
          "annotationdefaults": {
           "arrowcolor": "#2a3f5f",
           "arrowhead": 0,
           "arrowwidth": 1
          },
          "autotypenumbers": "strict",
          "coloraxis": {
           "colorbar": {
            "outlinewidth": 0,
            "ticks": ""
           }
          },
          "colorscale": {
           "diverging": [
            [
             0,
             "#8e0152"
            ],
            [
             0.1,
             "#c51b7d"
            ],
            [
             0.2,
             "#de77ae"
            ],
            [
             0.3,
             "#f1b6da"
            ],
            [
             0.4,
             "#fde0ef"
            ],
            [
             0.5,
             "#f7f7f7"
            ],
            [
             0.6,
             "#e6f5d0"
            ],
            [
             0.7,
             "#b8e186"
            ],
            [
             0.8,
             "#7fbc41"
            ],
            [
             0.9,
             "#4d9221"
            ],
            [
             1,
             "#276419"
            ]
           ],
           "sequential": [
            [
             0,
             "#0d0887"
            ],
            [
             0.1111111111111111,
             "#46039f"
            ],
            [
             0.2222222222222222,
             "#7201a8"
            ],
            [
             0.3333333333333333,
             "#9c179e"
            ],
            [
             0.4444444444444444,
             "#bd3786"
            ],
            [
             0.5555555555555556,
             "#d8576b"
            ],
            [
             0.6666666666666666,
             "#ed7953"
            ],
            [
             0.7777777777777778,
             "#fb9f3a"
            ],
            [
             0.8888888888888888,
             "#fdca26"
            ],
            [
             1,
             "#f0f921"
            ]
           ],
           "sequentialminus": [
            [
             0,
             "#0d0887"
            ],
            [
             0.1111111111111111,
             "#46039f"
            ],
            [
             0.2222222222222222,
             "#7201a8"
            ],
            [
             0.3333333333333333,
             "#9c179e"
            ],
            [
             0.4444444444444444,
             "#bd3786"
            ],
            [
             0.5555555555555556,
             "#d8576b"
            ],
            [
             0.6666666666666666,
             "#ed7953"
            ],
            [
             0.7777777777777778,
             "#fb9f3a"
            ],
            [
             0.8888888888888888,
             "#fdca26"
            ],
            [
             1,
             "#f0f921"
            ]
           ]
          },
          "colorway": [
           "#636efa",
           "#EF553B",
           "#00cc96",
           "#ab63fa",
           "#FFA15A",
           "#19d3f3",
           "#FF6692",
           "#B6E880",
           "#FF97FF",
           "#FECB52"
          ],
          "font": {
           "color": "#2a3f5f"
          },
          "geo": {
           "bgcolor": "white",
           "lakecolor": "white",
           "landcolor": "#E5ECF6",
           "showlakes": true,
           "showland": true,
           "subunitcolor": "white"
          },
          "hoverlabel": {
           "align": "left"
          },
          "hovermode": "closest",
          "mapbox": {
           "style": "light"
          },
          "paper_bgcolor": "white",
          "plot_bgcolor": "#E5ECF6",
          "polar": {
           "angularaxis": {
            "gridcolor": "white",
            "linecolor": "white",
            "ticks": ""
           },
           "bgcolor": "#E5ECF6",
           "radialaxis": {
            "gridcolor": "white",
            "linecolor": "white",
            "ticks": ""
           }
          },
          "scene": {
           "xaxis": {
            "backgroundcolor": "#E5ECF6",
            "gridcolor": "white",
            "gridwidth": 2,
            "linecolor": "white",
            "showbackground": true,
            "ticks": "",
            "zerolinecolor": "white"
           },
           "yaxis": {
            "backgroundcolor": "#E5ECF6",
            "gridcolor": "white",
            "gridwidth": 2,
            "linecolor": "white",
            "showbackground": true,
            "ticks": "",
            "zerolinecolor": "white"
           },
           "zaxis": {
            "backgroundcolor": "#E5ECF6",
            "gridcolor": "white",
            "gridwidth": 2,
            "linecolor": "white",
            "showbackground": true,
            "ticks": "",
            "zerolinecolor": "white"
           }
          },
          "shapedefaults": {
           "line": {
            "color": "#2a3f5f"
           }
          },
          "ternary": {
           "aaxis": {
            "gridcolor": "white",
            "linecolor": "white",
            "ticks": ""
           },
           "baxis": {
            "gridcolor": "white",
            "linecolor": "white",
            "ticks": ""
           },
           "bgcolor": "#E5ECF6",
           "caxis": {
            "gridcolor": "white",
            "linecolor": "white",
            "ticks": ""
           }
          },
          "title": {
           "x": 0.05
          },
          "xaxis": {
           "automargin": true,
           "gridcolor": "white",
           "linecolor": "white",
           "ticks": "",
           "title": {
            "standoff": 15
           },
           "zerolinecolor": "white",
           "zerolinewidth": 2
          },
          "yaxis": {
           "automargin": true,
           "gridcolor": "white",
           "linecolor": "white",
           "ticks": "",
           "title": {
            "standoff": 15
           },
           "zerolinecolor": "white",
           "zerolinewidth": 2
          }
         }
        },
        "xaxis": {
         "anchor": "y",
         "domain": [
          0,
          1
         ],
         "title": {
          "text": "cortical_act"
         }
        },
        "yaxis": {
         "anchor": "x",
         "domain": [
          0,
          1
         ],
         "title": {
          "text": "cerebellar_act"
         }
        }
       }
      }
     },
     "metadata": {},
     "output_type": "display_data"
    }
   ],
   "source": [
    "fig = px.scatter(D[D.dataset=='IBC'], x='cortical_act', y='cerebellar_act',hover_data=['names'],trendline=\"ols\")\n",
    "fig.show()"
   ]
  },
  {
   "cell_type": "code",
   "execution_count": 14,
   "metadata": {},
   "outputs": [
    {
     "data": {
      "application/vnd.plotly.v1+json": {
       "config": {
        "plotlyServerURL": "https://plot.ly"
       },
       "data": [
        {
         "customdata": [
          [
           "hcpemotion_faces"
          ],
          [
           "hcpemotion_shapes"
          ],
          [
           "hcpgamble_punish"
          ],
          [
           "hcpgamble_reward"
          ],
          [
           "hcplanguage_math"
          ],
          [
           "hcplanguage_story"
          ],
          [
           "motor_cue"
          ],
          [
           "motor_lfoot"
          ],
          [
           "motor_lhand"
          ],
          [
           "motor_rfoot"
          ],
          [
           "motor_rhand"
          ],
          [
           "motor_tongue"
          ],
          [
           "hcprelation_match"
          ],
          [
           "hcprelation_rel"
          ],
          [
           "hcpsocial_random"
          ],
          [
           "hcpsocial_tom"
          ],
          [
           "hcpwm_2bckbody"
          ],
          [
           "hcpwm_2bckface"
          ],
          [
           "hcpwm_2bckplace"
          ],
          [
           "hcpwm_2bcktool"
          ],
          [
           "hcpwm_0bckbody"
          ],
          [
           "hcpwm_0bckface"
          ],
          [
           "hcpwm_0bckplace"
          ],
          [
           "hcpwm_0bcktool"
          ]
         ],
         "hovertemplate": "cortical_act=%{x}<br>cerebellar_act=%{y}<br>names=%{customdata[0]}<extra></extra>",
         "legendgroup": "",
         "marker": {
          "color": "#636efa",
          "symbol": "circle"
         },
         "mode": "markers",
         "name": "",
         "orientation": "v",
         "showlegend": false,
         "type": "scatter",
         "x": [
          0.0557930895289187,
          0.0402693582447749,
          0.0326929124205149,
          0.0481670135525637,
          -0.0730817695575487,
          -0.0984715601287874,
          0.1920768720830918,
          0.0367239420811889,
          -0.0157756247548382,
          0.0147426389521382,
          0.0159694874541316,
          0.0323267991848366,
          0.0841510258734304,
          0.0742872047650758,
          0.1125178521679961,
          0.1147824139202446,
          0.0680143954492966,
          0.0371590967074292,
          0.0647098082488763,
          0.051179632687118,
          0.0714666338836905,
          0.0498558564410657,
          0.0423342661266604,
          0.0515364701676418
         ],
         "xaxis": "x",
         "y": [
          0.0224116947181963,
          0.0270205254487246,
          0.0273778694571381,
          0.0425046235514557,
          -0.0212098436300638,
          -0.0602106913269728,
          0.0639987247552556,
          0.0320088849372782,
          0.0032495537366945,
          0.0231504307098326,
          0.0231173957520583,
          -0.0120276956244299,
          0.052838878811907,
          0.0497008586823554,
          0.0455516729948412,
          0.055193913174307,
          0.0530729440906804,
          0.0437255287687337,
          0.0513655810905139,
          0.042976963043626,
          0.0426189577301362,
          0.0243620464772206,
          0.0145596044588554,
          0.0271323877466919
         ],
         "yaxis": "y"
        },
        {
         "hovertemplate": "<b>OLS trendline</b><br>cerebellar_act = 0.424154 * cortical_act + 0.00860282<br>R<sup>2</sup>=0.748175<br><br>cortical_act=%{x}<br>cerebellar_act=%{y} <b>(trend)</b><extra></extra>",
         "legendgroup": "",
         "marker": {
          "color": "#636efa",
          "symbol": "circle"
         },
         "mode": "lines",
         "name": "",
         "showlegend": false,
         "type": "scatter",
         "x": [
          -0.0984715601287874,
          -0.0730817695575487,
          -0.0157756247548382,
          0.0147426389521382,
          0.0159694874541316,
          0.0323267991848366,
          0.0326929124205149,
          0.0367239420811889,
          0.0371590967074292,
          0.0402693582447749,
          0.0423342661266604,
          0.0481670135525637,
          0.0498558564410657,
          0.051179632687118,
          0.0515364701676418,
          0.0557930895289187,
          0.0647098082488763,
          0.0680143954492966,
          0.0714666338836905,
          0.0742872047650758,
          0.0841510258734304,
          0.1125178521679961,
          0.1147824139202446,
          0.1920768720830918
         ],
         "xaxis": "x",
         "y": [
          -0.03316426224121239,
          -0.02239508661447359,
          0.0019115312814142393,
          0.014855968170777814,
          0.015376340599541955,
          0.02231435618950997,
          0.022469644502079177,
          0.02417942096717405,
          0.024363993446479108,
          0.025683222632193983,
          0.026559061114227484,
          0.029033042978698482,
          0.029749372072521315,
          0.03031085677024825,
          0.030462210736212702,
          0.032267671925392226,
          0.03604973186952702,
          0.03745138501965236,
          0.03891566499868772,
          0.04011202079784553,
          0.04429579779941462,
          0.05632769437935031,
          0.05728821680505261,
          0.09007295335472104
         ],
         "yaxis": "y"
        }
       ],
       "layout": {
        "legend": {
         "tracegroupgap": 0
        },
        "margin": {
         "t": 60
        },
        "template": {
         "data": {
          "bar": [
           {
            "error_x": {
             "color": "#2a3f5f"
            },
            "error_y": {
             "color": "#2a3f5f"
            },
            "marker": {
             "line": {
              "color": "#E5ECF6",
              "width": 0.5
             },
             "pattern": {
              "fillmode": "overlay",
              "size": 10,
              "solidity": 0.2
             }
            },
            "type": "bar"
           }
          ],
          "barpolar": [
           {
            "marker": {
             "line": {
              "color": "#E5ECF6",
              "width": 0.5
             },
             "pattern": {
              "fillmode": "overlay",
              "size": 10,
              "solidity": 0.2
             }
            },
            "type": "barpolar"
           }
          ],
          "carpet": [
           {
            "aaxis": {
             "endlinecolor": "#2a3f5f",
             "gridcolor": "white",
             "linecolor": "white",
             "minorgridcolor": "white",
             "startlinecolor": "#2a3f5f"
            },
            "baxis": {
             "endlinecolor": "#2a3f5f",
             "gridcolor": "white",
             "linecolor": "white",
             "minorgridcolor": "white",
             "startlinecolor": "#2a3f5f"
            },
            "type": "carpet"
           }
          ],
          "choropleth": [
           {
            "colorbar": {
             "outlinewidth": 0,
             "ticks": ""
            },
            "type": "choropleth"
           }
          ],
          "contour": [
           {
            "colorbar": {
             "outlinewidth": 0,
             "ticks": ""
            },
            "colorscale": [
             [
              0,
              "#0d0887"
             ],
             [
              0.1111111111111111,
              "#46039f"
             ],
             [
              0.2222222222222222,
              "#7201a8"
             ],
             [
              0.3333333333333333,
              "#9c179e"
             ],
             [
              0.4444444444444444,
              "#bd3786"
             ],
             [
              0.5555555555555556,
              "#d8576b"
             ],
             [
              0.6666666666666666,
              "#ed7953"
             ],
             [
              0.7777777777777778,
              "#fb9f3a"
             ],
             [
              0.8888888888888888,
              "#fdca26"
             ],
             [
              1,
              "#f0f921"
             ]
            ],
            "type": "contour"
           }
          ],
          "contourcarpet": [
           {
            "colorbar": {
             "outlinewidth": 0,
             "ticks": ""
            },
            "type": "contourcarpet"
           }
          ],
          "heatmap": [
           {
            "colorbar": {
             "outlinewidth": 0,
             "ticks": ""
            },
            "colorscale": [
             [
              0,
              "#0d0887"
             ],
             [
              0.1111111111111111,
              "#46039f"
             ],
             [
              0.2222222222222222,
              "#7201a8"
             ],
             [
              0.3333333333333333,
              "#9c179e"
             ],
             [
              0.4444444444444444,
              "#bd3786"
             ],
             [
              0.5555555555555556,
              "#d8576b"
             ],
             [
              0.6666666666666666,
              "#ed7953"
             ],
             [
              0.7777777777777778,
              "#fb9f3a"
             ],
             [
              0.8888888888888888,
              "#fdca26"
             ],
             [
              1,
              "#f0f921"
             ]
            ],
            "type": "heatmap"
           }
          ],
          "heatmapgl": [
           {
            "colorbar": {
             "outlinewidth": 0,
             "ticks": ""
            },
            "colorscale": [
             [
              0,
              "#0d0887"
             ],
             [
              0.1111111111111111,
              "#46039f"
             ],
             [
              0.2222222222222222,
              "#7201a8"
             ],
             [
              0.3333333333333333,
              "#9c179e"
             ],
             [
              0.4444444444444444,
              "#bd3786"
             ],
             [
              0.5555555555555556,
              "#d8576b"
             ],
             [
              0.6666666666666666,
              "#ed7953"
             ],
             [
              0.7777777777777778,
              "#fb9f3a"
             ],
             [
              0.8888888888888888,
              "#fdca26"
             ],
             [
              1,
              "#f0f921"
             ]
            ],
            "type": "heatmapgl"
           }
          ],
          "histogram": [
           {
            "marker": {
             "pattern": {
              "fillmode": "overlay",
              "size": 10,
              "solidity": 0.2
             }
            },
            "type": "histogram"
           }
          ],
          "histogram2d": [
           {
            "colorbar": {
             "outlinewidth": 0,
             "ticks": ""
            },
            "colorscale": [
             [
              0,
              "#0d0887"
             ],
             [
              0.1111111111111111,
              "#46039f"
             ],
             [
              0.2222222222222222,
              "#7201a8"
             ],
             [
              0.3333333333333333,
              "#9c179e"
             ],
             [
              0.4444444444444444,
              "#bd3786"
             ],
             [
              0.5555555555555556,
              "#d8576b"
             ],
             [
              0.6666666666666666,
              "#ed7953"
             ],
             [
              0.7777777777777778,
              "#fb9f3a"
             ],
             [
              0.8888888888888888,
              "#fdca26"
             ],
             [
              1,
              "#f0f921"
             ]
            ],
            "type": "histogram2d"
           }
          ],
          "histogram2dcontour": [
           {
            "colorbar": {
             "outlinewidth": 0,
             "ticks": ""
            },
            "colorscale": [
             [
              0,
              "#0d0887"
             ],
             [
              0.1111111111111111,
              "#46039f"
             ],
             [
              0.2222222222222222,
              "#7201a8"
             ],
             [
              0.3333333333333333,
              "#9c179e"
             ],
             [
              0.4444444444444444,
              "#bd3786"
             ],
             [
              0.5555555555555556,
              "#d8576b"
             ],
             [
              0.6666666666666666,
              "#ed7953"
             ],
             [
              0.7777777777777778,
              "#fb9f3a"
             ],
             [
              0.8888888888888888,
              "#fdca26"
             ],
             [
              1,
              "#f0f921"
             ]
            ],
            "type": "histogram2dcontour"
           }
          ],
          "mesh3d": [
           {
            "colorbar": {
             "outlinewidth": 0,
             "ticks": ""
            },
            "type": "mesh3d"
           }
          ],
          "parcoords": [
           {
            "line": {
             "colorbar": {
              "outlinewidth": 0,
              "ticks": ""
             }
            },
            "type": "parcoords"
           }
          ],
          "pie": [
           {
            "automargin": true,
            "type": "pie"
           }
          ],
          "scatter": [
           {
            "fillpattern": {
             "fillmode": "overlay",
             "size": 10,
             "solidity": 0.2
            },
            "type": "scatter"
           }
          ],
          "scatter3d": [
           {
            "line": {
             "colorbar": {
              "outlinewidth": 0,
              "ticks": ""
             }
            },
            "marker": {
             "colorbar": {
              "outlinewidth": 0,
              "ticks": ""
             }
            },
            "type": "scatter3d"
           }
          ],
          "scattercarpet": [
           {
            "marker": {
             "colorbar": {
              "outlinewidth": 0,
              "ticks": ""
             }
            },
            "type": "scattercarpet"
           }
          ],
          "scattergeo": [
           {
            "marker": {
             "colorbar": {
              "outlinewidth": 0,
              "ticks": ""
             }
            },
            "type": "scattergeo"
           }
          ],
          "scattergl": [
           {
            "marker": {
             "colorbar": {
              "outlinewidth": 0,
              "ticks": ""
             }
            },
            "type": "scattergl"
           }
          ],
          "scattermapbox": [
           {
            "marker": {
             "colorbar": {
              "outlinewidth": 0,
              "ticks": ""
             }
            },
            "type": "scattermapbox"
           }
          ],
          "scatterpolar": [
           {
            "marker": {
             "colorbar": {
              "outlinewidth": 0,
              "ticks": ""
             }
            },
            "type": "scatterpolar"
           }
          ],
          "scatterpolargl": [
           {
            "marker": {
             "colorbar": {
              "outlinewidth": 0,
              "ticks": ""
             }
            },
            "type": "scatterpolargl"
           }
          ],
          "scatterternary": [
           {
            "marker": {
             "colorbar": {
              "outlinewidth": 0,
              "ticks": ""
             }
            },
            "type": "scatterternary"
           }
          ],
          "surface": [
           {
            "colorbar": {
             "outlinewidth": 0,
             "ticks": ""
            },
            "colorscale": [
             [
              0,
              "#0d0887"
             ],
             [
              0.1111111111111111,
              "#46039f"
             ],
             [
              0.2222222222222222,
              "#7201a8"
             ],
             [
              0.3333333333333333,
              "#9c179e"
             ],
             [
              0.4444444444444444,
              "#bd3786"
             ],
             [
              0.5555555555555556,
              "#d8576b"
             ],
             [
              0.6666666666666666,
              "#ed7953"
             ],
             [
              0.7777777777777778,
              "#fb9f3a"
             ],
             [
              0.8888888888888888,
              "#fdca26"
             ],
             [
              1,
              "#f0f921"
             ]
            ],
            "type": "surface"
           }
          ],
          "table": [
           {
            "cells": {
             "fill": {
              "color": "#EBF0F8"
             },
             "line": {
              "color": "white"
             }
            },
            "header": {
             "fill": {
              "color": "#C8D4E3"
             },
             "line": {
              "color": "white"
             }
            },
            "type": "table"
           }
          ]
         },
         "layout": {
          "annotationdefaults": {
           "arrowcolor": "#2a3f5f",
           "arrowhead": 0,
           "arrowwidth": 1
          },
          "autotypenumbers": "strict",
          "coloraxis": {
           "colorbar": {
            "outlinewidth": 0,
            "ticks": ""
           }
          },
          "colorscale": {
           "diverging": [
            [
             0,
             "#8e0152"
            ],
            [
             0.1,
             "#c51b7d"
            ],
            [
             0.2,
             "#de77ae"
            ],
            [
             0.3,
             "#f1b6da"
            ],
            [
             0.4,
             "#fde0ef"
            ],
            [
             0.5,
             "#f7f7f7"
            ],
            [
             0.6,
             "#e6f5d0"
            ],
            [
             0.7,
             "#b8e186"
            ],
            [
             0.8,
             "#7fbc41"
            ],
            [
             0.9,
             "#4d9221"
            ],
            [
             1,
             "#276419"
            ]
           ],
           "sequential": [
            [
             0,
             "#0d0887"
            ],
            [
             0.1111111111111111,
             "#46039f"
            ],
            [
             0.2222222222222222,
             "#7201a8"
            ],
            [
             0.3333333333333333,
             "#9c179e"
            ],
            [
             0.4444444444444444,
             "#bd3786"
            ],
            [
             0.5555555555555556,
             "#d8576b"
            ],
            [
             0.6666666666666666,
             "#ed7953"
            ],
            [
             0.7777777777777778,
             "#fb9f3a"
            ],
            [
             0.8888888888888888,
             "#fdca26"
            ],
            [
             1,
             "#f0f921"
            ]
           ],
           "sequentialminus": [
            [
             0,
             "#0d0887"
            ],
            [
             0.1111111111111111,
             "#46039f"
            ],
            [
             0.2222222222222222,
             "#7201a8"
            ],
            [
             0.3333333333333333,
             "#9c179e"
            ],
            [
             0.4444444444444444,
             "#bd3786"
            ],
            [
             0.5555555555555556,
             "#d8576b"
            ],
            [
             0.6666666666666666,
             "#ed7953"
            ],
            [
             0.7777777777777778,
             "#fb9f3a"
            ],
            [
             0.8888888888888888,
             "#fdca26"
            ],
            [
             1,
             "#f0f921"
            ]
           ]
          },
          "colorway": [
           "#636efa",
           "#EF553B",
           "#00cc96",
           "#ab63fa",
           "#FFA15A",
           "#19d3f3",
           "#FF6692",
           "#B6E880",
           "#FF97FF",
           "#FECB52"
          ],
          "font": {
           "color": "#2a3f5f"
          },
          "geo": {
           "bgcolor": "white",
           "lakecolor": "white",
           "landcolor": "#E5ECF6",
           "showlakes": true,
           "showland": true,
           "subunitcolor": "white"
          },
          "hoverlabel": {
           "align": "left"
          },
          "hovermode": "closest",
          "mapbox": {
           "style": "light"
          },
          "paper_bgcolor": "white",
          "plot_bgcolor": "#E5ECF6",
          "polar": {
           "angularaxis": {
            "gridcolor": "white",
            "linecolor": "white",
            "ticks": ""
           },
           "bgcolor": "#E5ECF6",
           "radialaxis": {
            "gridcolor": "white",
            "linecolor": "white",
            "ticks": ""
           }
          },
          "scene": {
           "xaxis": {
            "backgroundcolor": "#E5ECF6",
            "gridcolor": "white",
            "gridwidth": 2,
            "linecolor": "white",
            "showbackground": true,
            "ticks": "",
            "zerolinecolor": "white"
           },
           "yaxis": {
            "backgroundcolor": "#E5ECF6",
            "gridcolor": "white",
            "gridwidth": 2,
            "linecolor": "white",
            "showbackground": true,
            "ticks": "",
            "zerolinecolor": "white"
           },
           "zaxis": {
            "backgroundcolor": "#E5ECF6",
            "gridcolor": "white",
            "gridwidth": 2,
            "linecolor": "white",
            "showbackground": true,
            "ticks": "",
            "zerolinecolor": "white"
           }
          },
          "shapedefaults": {
           "line": {
            "color": "#2a3f5f"
           }
          },
          "ternary": {
           "aaxis": {
            "gridcolor": "white",
            "linecolor": "white",
            "ticks": ""
           },
           "baxis": {
            "gridcolor": "white",
            "linecolor": "white",
            "ticks": ""
           },
           "bgcolor": "#E5ECF6",
           "caxis": {
            "gridcolor": "white",
            "linecolor": "white",
            "ticks": ""
           }
          },
          "title": {
           "x": 0.05
          },
          "xaxis": {
           "automargin": true,
           "gridcolor": "white",
           "linecolor": "white",
           "ticks": "",
           "title": {
            "standoff": 15
           },
           "zerolinecolor": "white",
           "zerolinewidth": 2
          },
          "yaxis": {
           "automargin": true,
           "gridcolor": "white",
           "linecolor": "white",
           "ticks": "",
           "title": {
            "standoff": 15
           },
           "zerolinecolor": "white",
           "zerolinewidth": 2
          }
         }
        },
        "xaxis": {
         "anchor": "y",
         "domain": [
          0,
          1
         ],
         "title": {
          "text": "cortical_act"
         }
        },
        "yaxis": {
         "anchor": "x",
         "domain": [
          0,
          1
         ],
         "title": {
          "text": "cerebellar_act"
         }
        }
       }
      }
     },
     "metadata": {},
     "output_type": "display_data"
    }
   ],
   "source": [
    "fig = px.scatter(D[D.dataset=='HCPur100'], x='cortical_act', y='cerebellar_act',hover_data=['names'],trendline=\"ols\")\n",
    "fig.show()"
   ]
  },
  {
   "cell_type": "markdown",
   "metadata": {},
   "source": [
    "## Yeo 17 based on connectivty weights"
   ]
  },
  {
   "cell_type": "code",
   "execution_count": 18,
   "metadata": {},
   "outputs": [],
   "source": [
    "T1,colors1 = csw.get_weight_by_cortex(dataset_name='Fusion',extension='06')"
   ]
  },
  {
   "cell_type": "code",
   "execution_count": 19,
   "metadata": {},
   "outputs": [
    {
     "data": {
      "image/png": "[encoded data removed]",
      "text/plain": [
       "<Figure size 432x432 with 1 Axes>"
      ]
     },
     "metadata": {
      "needs_background": "light"
     },
     "output_type": "display_data"
    }
   ],
   "source": [
    "plot_figure(T1,colors1)\n",
    "plt.savefig(fig_dir + '/Yeo17_inputsize.pdf', bbox_inches='tight')"
   ]
  },
  {
   "cell_type": "code",
   "execution_count": 7,
   "metadata": {},
   "outputs": [],
   "source": [
    "T2,colors = csw.get_weight_by_cortex(dataset_name='HCP',extension='A-2')"
   ]
  },
  {
   "cell_type": "code",
   "execution_count": 8,
   "metadata": {},
   "outputs": [
    {
     "data": {
      "image/png": "[encoded data removed]",
      "text/plain": [
       "<Figure size 432x432 with 1 Axes>"
      ]
     },
     "metadata": {
      "needs_background": "light"
     },
     "output_type": "display_data"
    }
   ],
   "source": [
    "plot_figure(T2,colors)"
   ]
  },
  {
   "cell_type": "code",
   "execution_count": 20,
   "metadata": {},
   "outputs": [
    {
     "data": {
      "image/png": "[encoded data removed]",
      "text/plain": [
       "<Figure size 432x432 with 1 Axes>"
      ]
     },
     "metadata": {
      "needs_background": "light"
     },
     "output_type": "display_data"
    }
   ],
   "source": [
    "T3,colors = csw.get_weight_by_cortex(dataset_name='MDTB',extension='A6')\n",
    "plot_figure(T3,colors)"
   ]
  }
 ],
 "metadata": {
  "kernelspec": {
   "display_name": "base",
   "language": "python",
   "name": "python3"
  },
  "language_info": {
   "codemirror_mode": {
    "name": "ipython",
    "version": 3
   },
   "file_extension": ".py",
   "mimetype": "text/x-python",
   "name": "python",
   "nbconvert_exporter": "python",
   "pygments_lexer": "ipython3",
   "version": "3.11.8"
  },
  "vscode": {
   "interpreter": {
    "hash": "82c9595c6ac3df5bed1366f4aa85323e4ec1b3448185f6be6e163d2b6e222f49"
   }
  }
 },
 "nbformat": 4,
 "nbformat_minor": 2
}
