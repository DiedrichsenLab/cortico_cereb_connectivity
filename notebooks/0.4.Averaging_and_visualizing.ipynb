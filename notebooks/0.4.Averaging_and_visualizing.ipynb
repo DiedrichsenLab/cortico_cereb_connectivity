{
 "cells": [
  {
   "cell_type": "markdown",
   "metadata": {},
   "source": [
    "# Averaging, summarizing, and displaying connectivity models\n",
    "Connectivity models are estimated for each participant individually - The target structure ($\\mathbf{Y}$, cerebellum) is predicted on a voxel/vertex level from the source structure ($\\mathbf{X}$, neocortex), which is parcellated at a certain granularity. The files are store as .h5 files in folder named after the target atlas. \n",
    "\n"
   ]
  },
  {
   "cell_type": "code",
   "execution_count": null,
   "metadata": {},
   "outputs": [],
   "source": [
    "# Import necessary modules\n",
    "import numpy as np\n",
    "import deepdish as dd\n",
    "import nibabel as nb\n",
    "import cortico_cereb_connectivity.globals as gl\n",
    "import cortico_cereb_connectivity.run_model as rm\n",
    "import cortico_cereb_connectivity.cio as cio\n",
    "import json"
   ]
  },
  {
   "cell_type": "markdown",
   "metadata": {},
   "source": [
    "###  Averaging across participants"
   ]
  },
  {
   "cell_type": "code",
   "execution_count": null,
   "metadata": {},
   "outputs": [],
   "source": [
    "# Average a specific model across participants\n",
    "train_data = 'MDTB'                 # Training data \n",
    "train_ses= \"ses-s1\"                 # Training session \n",
    "parcellation = 'Icosahedron162'     # Source structure parcellation\n",
    "method='NNLS'                       # Method\n",
    "parameters=['coef_']                # Parameters to averae\n",
    "cerebellum='SUIT3'                  # Target structure (cerebellum) atlas\n",
    "ext = 'A4'                          # Extension \n",
    "avg_id = 'avg'                      # ID for the average model\n",
    "\n",
    "mname_base = f\"{train_data}_{train_ses}_{parcellation}_{method}\"\n",
    "model_path = gl.conn_dir + f\"/{cerebellum}/train/{mname_base}/\"\n",
    "avrg_model,info = rm.calc_avrg_model(train_data,\n",
    "            mname_base,\n",
    "            ext,\n",
    "            cerebellum=cerebellum,\n",
    "            parameters=parameters,\n",
    "            avrg_mode='avr_sep')\n",
    "fname = model_path + f\"/{mname_base}{ext}_{avg_id}\" # Model basename \n",
    "cio.save_model(avrg_model,info,fname)"
   ]
  },
  {
   "cell_type": "markdown",
   "metadata": {},
   "source": [
    "### Exporting model to pdconn.nii file\n",
    "``export_model`` is currently a script in ``scripts/script_export_model.py``. For specific exports, it is best to write your own scipt to call ``Model.to_cifti``. "
   ]
  },
  {
   "cell_type": "code",
   "execution_count": null,
   "metadata": {},
   "outputs": [],
   "source": [
    "def export_model(model_name,model_ext,file_name,type='pdconn'):\n",
    "    model_path = os.path.join(gl.conn_dir,'SUIT3','train',model_name)\n",
    "    fname = model_path + f\"/{model_name}_{model_ext}\"\n",
    "    M,info = cio.load_model(fname)\n",
    "    adir = am.default_atlas_dir\n",
    "    src_roi = [f\"{adir}/tpl-{info['cortex']}/Icosahedron1002.L.label.gii\",\n",
    "               f\"{adir}/tpl-{info['cortex']}/Icosahedron1002.R.label.gii\"]\n",
    "    C = M.to_cifti(src_atlas=info['cortex'],\n",
    "                    trg_atlas=info['cerebellum'],\n",
    "                    src_roi=src_roi,\n",
    "                    fname=f'data/{file_name}',\n",
    "                    dtype = 'float32')"
   ]
  },
  {
   "cell_type": "code",
   "execution_count": null,
   "metadata": {},
   "outputs": [],
   "source": [
    "export_model('MDTB_all_Icosahedron1002_L2regression','A8_avg','Nettekoven_2024_MDTB_L2.pdconn.nii')"
   ]
  },
  {
   "cell_type": "markdown",
   "metadata": {},
   "source": [
    "## Averaging connectivity models by target-structure ROI\n",
    "For visualization it is useful to average the connectivity weights also by a specific target-structure ROI. \n",
    "This script will produce a .pscalar file "
   ]
  },
  {
   "cell_type": "code",
   "execution_count": null,
   "metadata": {},
   "outputs": [],
   "source": [
    "from cortico_cereb_connectivity.scripts.script_summarize_weights import avrg_weight_map,sort_roi_rows\n",
    "\n",
    "cifti_img = avrg_weight_map(method = 'NNLS',\n",
    "                                cortex_roi = \"Icosahedron162\",\n",
    "                                cerebellum_roi = \"NettekovenSym32\",\n",
    "                                cerebellum_atlas = \"SUIT3\",\n",
    "                                extension = 'A4',\n",
    "                                dataset_name = 'MDTB',\n",
    "                                ses_id = \"ses-s1\",\n",
    "                                )\n",
    "fname = gl.conn_dir + f'/maps/MDTBs1_NNLS162_A4.pscalar.nii'\n",
    "cifti_img = sort_roi_rows(cifti_img)\n",
    "nb.save(cifti_img,fname)"
   ]
  }
 ],
 "metadata": {
  "kernelspec": {
   "display_name": "Python 3",
   "language": "python",
   "name": "python3"
  },
  "language_info": {
   "codemirror_mode": {
    "name": "ipython",
    "version": 3
   },
   "file_extension": ".py",
   "mimetype": "text/x-python",
   "name": "python",
   "nbconvert_exporter": "python",
   "pygments_lexer": "ipython3",
   "version": "3.7.8"
  }
 },
 "nbformat": 4,
 "nbformat_minor": 4
}
