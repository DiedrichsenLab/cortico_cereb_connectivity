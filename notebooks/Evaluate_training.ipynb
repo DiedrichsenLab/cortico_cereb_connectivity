{
 "cells": [
  {
   "cell_type": "code",
   "execution_count": 1,
   "metadata": {},
   "outputs": [],
   "source": [
    "import numpy as np\n",
    "import pandas as pd\n",
    "import seaborn as sns\n",
    "import cortico_cereb_connectivity.globals as gl\n",
    "import glob\n"
   ]
  },
  {
   "attachments": {},
   "cell_type": "markdown",
   "metadata": {},
   "source": [
    "## Look at crossvalidation to pick the best model for each of the training datasets\n"
   ]
  },
  {
   "cell_type": "code",
   "execution_count": 2,
   "metadata": {},
   "outputs": [],
   "source": [
    "def check_Rcv(train_data=['MDTB','Somatotopic','Demand','IBC','WMFS','HCP'],\n",
    "              sess='all',\n",
    "              cerebellum='SUIT3',\n",
    "              parcellation='Icosahedron1002',\n",
    "              method='L2Regression'):\n",
    "    T = []\n",
    "    for td in train_data:\n",
    "        mname = f\"{td}_{sess}_{parcellation}_{method}\"\n",
    "        f = gl.conn_dir + f'/{cerebellum}/train/{mname}/{mname}.tsv'\n",
    "        dd = pd.read_csv(f, sep='\\t')\n",
    "        T.append(dd)\n",
    "    df = pd.concat(T,ignore_index=True)\n",
    "    return df"
   ]
  },
  {
   "cell_type": "code",
   "execution_count": 3,
   "metadata": {},
   "outputs": [],
   "source": [
    "df=check_Rcv()"
   ]
  },
  {
   "cell_type": "code",
   "execution_count": 5,
   "metadata": {},
   "outputs": [
    {
     "data": {
      "text/plain": [
       "array(['MDTB', 'Somatotopic', 'Demand', 'IBC', 'WMFS', 'HCP'],\n",
       "      dtype=object)"
      ]
     },
     "execution_count": 5,
     "metadata": {},
     "output_type": "execute_result"
    }
   ],
   "source": [
    "df.train_dataset.unique()"
   ]
  },
  {
   "cell_type": "code",
   "execution_count": 6,
   "metadata": {},
   "outputs": [
    {
     "data": {
      "text/plain": [
       "<AxesSubplot:xlabel='logalpha', ylabel='R_cv'>"
      ]
     },
     "execution_count": 6,
     "metadata": {},
     "output_type": "execute_result"
    },
    {
     "data": {
      "image/png": "[encoded data removed]",
      "text/plain": [
       "<Figure size 432x288 with 1 Axes>"
      ]
     },
     "metadata": {
      "needs_background": "light"
     },
     "output_type": "display_data"
    }
   ],
   "source": [
    "sns.lineplot(data=df,x='logalpha',y='R_cv',hue='train_dataset')"
   ]
  },
  {
   "cell_type": "code",
   "execution_count": 11,
   "metadata": {},
   "outputs": [
    {
     "data": {
      "text/html": [
       "<div>\n",
       "<style scoped>\n",
       "    .dataframe tbody tr th:only-of-type {\n",
       "        vertical-align: middle;\n",
       "    }\n",
       "\n",
       "    .dataframe tbody tr th {\n",
       "        vertical-align: top;\n",
       "    }\n",
       "\n",
       "    .dataframe thead tr th {\n",
       "        text-align: left;\n",
       "    }\n",
       "\n",
       "    .dataframe thead tr:last-of-type th {\n",
       "        text-align: right;\n",
       "    }\n",
       "</style>\n",
       "<table border=\"1\" class=\"dataframe\">\n",
       "  <thead>\n",
       "    <tr>\n",
       "      <th></th>\n",
       "      <th colspan=\"7\" halign=\"left\">R_cv</th>\n",
       "    </tr>\n",
       "    <tr>\n",
       "      <th>logalpha</th>\n",
       "      <th>0</th>\n",
       "      <th>2</th>\n",
       "      <th>4</th>\n",
       "      <th>6</th>\n",
       "      <th>8</th>\n",
       "      <th>10</th>\n",
       "      <th>12</th>\n",
       "    </tr>\n",
       "    <tr>\n",
       "      <th>train_dataset</th>\n",
       "      <th></th>\n",
       "      <th></th>\n",
       "      <th></th>\n",
       "      <th></th>\n",
       "      <th></th>\n",
       "      <th></th>\n",
       "      <th></th>\n",
       "    </tr>\n",
       "  </thead>\n",
       "  <tbody>\n",
       "    <tr>\n",
       "      <th>Demand</th>\n",
       "      <td>0.837330</td>\n",
       "      <td>0.838816</td>\n",
       "      <td>0.846234</td>\n",
       "      <td>0.858021</td>\n",
       "      <td>0.849340</td>\n",
       "      <td>0.830135</td>\n",
       "      <td>0.823647</td>\n",
       "    </tr>\n",
       "    <tr>\n",
       "      <th>HCP</th>\n",
       "      <td>0.996396</td>\n",
       "      <td>0.996429</td>\n",
       "      <td>0.996428</td>\n",
       "      <td>0.996538</td>\n",
       "      <td>0.996878</td>\n",
       "      <td>0.996582</td>\n",
       "      <td>0.995917</td>\n",
       "    </tr>\n",
       "    <tr>\n",
       "      <th>IBC</th>\n",
       "      <td>0.019906</td>\n",
       "      <td>0.023066</td>\n",
       "      <td>0.032917</td>\n",
       "      <td>0.050416</td>\n",
       "      <td>0.064934</td>\n",
       "      <td>0.064555</td>\n",
       "      <td>0.053259</td>\n",
       "    </tr>\n",
       "    <tr>\n",
       "      <th>MDTB</th>\n",
       "      <td>0.070747</td>\n",
       "      <td>0.070299</td>\n",
       "      <td>0.072989</td>\n",
       "      <td>0.089180</td>\n",
       "      <td>0.119268</td>\n",
       "      <td>0.139023</td>\n",
       "      <td>0.140294</td>\n",
       "    </tr>\n",
       "    <tr>\n",
       "      <th>Somatotopic</th>\n",
       "      <td>0.834310</td>\n",
       "      <td>0.834157</td>\n",
       "      <td>0.832386</td>\n",
       "      <td>0.813037</td>\n",
       "      <td>0.741948</td>\n",
       "      <td>0.680527</td>\n",
       "      <td>0.664224</td>\n",
       "    </tr>\n",
       "    <tr>\n",
       "      <th>WMFS</th>\n",
       "      <td>0.592001</td>\n",
       "      <td>0.594167</td>\n",
       "      <td>0.606150</td>\n",
       "      <td>0.639970</td>\n",
       "      <td>0.676792</td>\n",
       "      <td>0.693056</td>\n",
       "      <td>0.696321</td>\n",
       "    </tr>\n",
       "  </tbody>\n",
       "</table>\n",
       "</div>"
      ],
      "text/plain": [
       "                   R_cv                                                    \\\n",
       "logalpha             0         2         4         6         8         10   \n",
       "train_dataset                                                               \n",
       "Demand         0.837330  0.838816  0.846234  0.858021  0.849340  0.830135   \n",
       "HCP            0.996396  0.996429  0.996428  0.996538  0.996878  0.996582   \n",
       "IBC            0.019906  0.023066  0.032917  0.050416  0.064934  0.064555   \n",
       "MDTB           0.070747  0.070299  0.072989  0.089180  0.119268  0.139023   \n",
       "Somatotopic    0.834310  0.834157  0.832386  0.813037  0.741948  0.680527   \n",
       "WMFS           0.592001  0.594167  0.606150  0.639970  0.676792  0.693056   \n",
       "\n",
       "                         \n",
       "logalpha             12  \n",
       "train_dataset            \n",
       "Demand         0.823647  \n",
       "HCP            0.995917  \n",
       "IBC            0.053259  \n",
       "MDTB           0.140294  \n",
       "Somatotopic    0.664224  \n",
       "WMFS           0.696321  "
      ]
     },
     "execution_count": 11,
     "metadata": {},
     "output_type": "execute_result"
    }
   ],
   "source": [
    "pd.pivot_table(df,index=['train_dataset'],columns=['logalpha'],values=['R_cv'])"
   ]
  },
  {
   "cell_type": "code",
   "execution_count": 17,
   "metadata": {},
   "outputs": [
    {
     "data": {
      "text/plain": [
       "MultiIndex([('R_cv',  6),\n",
       "            ('R_cv',  8),\n",
       "            ('R_cv',  8),\n",
       "            ('R_cv', 12),\n",
       "            ('R_cv',  0),\n",
       "            ('R_cv', 12)],\n",
       "           names=[None, 'logalpha'])"
      ]
     },
     "execution_count": 17,
     "metadata": {},
     "output_type": "execute_result"
    }
   ],
   "source": [
    "A = pd.pivot_table(df,index=['train_dataset'],columns=['logalpha'],values=['R_cv'])\n",
    "ind = A.values.argmax(axis=1)\n",
    "A.columns[ind]"
   ]
  }
 ],
 "metadata": {
  "interpreter": {
   "hash": "ef7a7f72e468bca1612bb4ef599a29241fe0173a5a59e4e8770af0d9bad1445f"
  },
  "kernelspec": {
   "display_name": "Python 3.9.5 ('env': venv)",
   "language": "python",
   "name": "python3"
  },
  "language_info": {
   "codemirror_mode": {
    "name": "ipython",
    "version": 3
   },
   "file_extension": ".py",
   "mimetype": "text/x-python",
   "name": "python",
   "nbconvert_exporter": "python",
   "pygments_lexer": "ipython3",
   "version": "3.8.5"
  },
  "orig_nbformat": 4
 },
 "nbformat": 4,
 "nbformat_minor": 2
}
