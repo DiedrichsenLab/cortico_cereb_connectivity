{
 "cells": [
  {
   "cell_type": "code",
   "execution_count": 1,
   "metadata": {},
   "outputs": [],
   "source": [
    "import numpy as np\n",
    "import pandas as pd\n",
    "import seaborn as sns\n",
    "import cortico_cereb_connectivity.globals as gl\n",
    "import cortico_cereb_connectivity.run_model as rm\n",
    "import matplotlib.pyplot as plt\n",
    "import scipy.stats as stats\n"
   ]
  },
  {
   "attachments": {},
   "cell_type": "markdown",
   "metadata": {},
   "source": [
    "##  Evaluate different model fusion\n",
    "\n",
    "Fusion4: ['Demand','HCP','MDTB'],\n",
    "\n",
    "Fusion5: ['Demand','HCP','IBC','MDTB','Somatotopic','WMFS','Nishimoto'],\n",
    "\n",
    "Fusion6: ['Demand'','IBC','MDTB','Somatotopic','WMFS','Nishimoto'],\n",
    "\n",
    "Fusion7: ['Demand','IBC','MDTB','WMFS','Nishimoto'],"
   ]
  },
  {
   "cell_type": "code",
   "execution_count": 2,
   "metadata": {},
   "outputs": [],
   "source": [
    "# These are the non-cross-validated model evaluations results:\n",
    "dff = rm.comb_eval(models=['Fu'],eval_t='eval')\n",
    "\n",
    "# For the paper, we only use the cross-validated results:\n",
    "dff=rm.comb_eval(models=['Fu04-loo','Fu05-loo','Fu06-loo','Fu07-loo'],eval_t='eval')\n"
   ]
  },
  {
   "cell_type": "code",
   "execution_count": 3,
   "metadata": {},
   "outputs": [
    {
     "data": {
      "text/plain": [
       "<AxesSubplot:xlabel='eval_dataset', ylabel='R_eval'>"
      ]
     },
     "execution_count": 3,
     "metadata": {},
     "output_type": "execute_result"
    },
    {
     "data": {
      "image/png": "[encoded data removed]",
      "text/plain": [
       "<Figure size 432x288 with 1 Axes>"
      ]
     },
     "metadata": {
      "needs_background": "light"
     },
     "output_type": "display_data"
    }
   ],
   "source": [
    "# Cross-validated:\n",
    "sns.barplot(data=dff,x='eval_dataset',hue='extension',y='R_eval')"
   ]
  },
  {
   "cell_type": "code",
   "execution_count": 4,
   "metadata": {},
   "outputs": [],
   "source": [
    "# Compare the version with (5) and without HCP (6) in the fusion model \n",
    "def comp_fusion(dff):\n",
    "    sns.barplot(data=dff,x='extension',y='R_eval')\n",
    "    t=stats.ttest_rel(dff[dff['extension']==5]['R_eval'],dff[dff['extension']==6]['R_eval']) \n",
    "    indx =dff['extension']==5\n",
    "    df=indx.sum()-1\n",
    "    print(f't({df}) = {t.statistic:.2f}, p={t.pvalue:.4f}')"
   ]
  },
  {
   "cell_type": "code",
   "execution_count": 6,
   "metadata": {},
   "outputs": [
    {
     "name": "stdout",
     "output_type": "stream",
     "text": [
      "t(102) = -1.51, p=0.1349\n",
      "with HCP: 0.394, without HCP: 0.396\n"
     ]
    },
    {
     "data": {
      "image/png": "[encoded data removed]",
      "text/plain": [
       "<Figure size 432x288 with 1 Axes>"
      ]
     },
     "metadata": {
      "needs_background": "light"
     },
     "output_type": "display_data"
    }
   ],
   "source": [
    "comp_fusion(dff)\n",
    "m1 = dff[dff['extension']==5]['R_eval'].mean()\n",
    "m2 = dff[dff['extension']==6]['R_eval'].mean()\n",
    "\n",
    "print(f'with HCP: {m1:.3f}, without HCP: {m2:.3f}')"
   ]
  }
 ],
 "metadata": {
  "kernelspec": {
   "display_name": "base",
   "language": "python",
   "name": "python3"
  },
  "language_info": {
   "codemirror_mode": {
    "name": "ipython",
    "version": 3
   },
   "file_extension": ".py",
   "mimetype": "text/x-python",
   "name": "python",
   "nbconvert_exporter": "python",
   "pygments_lexer": "ipython3",
   "version": "3.8.5"
  },
  "vscode": {
   "interpreter": {
    "hash": "82c9595c6ac3df5bed1366f4aa85323e4ec1b3448185f6be6e163d2b6e222f49"
   }
  }
 },
 "nbformat": 4,
 "nbformat_minor": 2
}
